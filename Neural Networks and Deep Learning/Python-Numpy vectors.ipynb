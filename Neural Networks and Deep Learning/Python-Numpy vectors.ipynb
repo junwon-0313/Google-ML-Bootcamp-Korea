{
 "cells": [
  {
   "cell_type": "code",
   "execution_count": 4,
   "metadata": {},
   "outputs": [],
   "source": [
    "import numpy as np\n",
    "\n",
    "a = np.random.randn(5)"
   ]
  },
  {
   "cell_type": "code",
   "execution_count": 5,
   "metadata": {},
   "outputs": [
    {
     "name": "stdout",
     "output_type": "stream",
     "text": [
      "[-0.70451238  0.5361303  -1.34377666  1.65514002  0.83622406]\n"
     ]
    }
   ],
   "source": [
    "print(a)"
   ]
  },
  {
   "cell_type": "markdown",
   "metadata": {},
   "source": [
    "### It's neither a row vector nor a column vector."
   ]
  },
  {
   "cell_type": "code",
   "execution_count": 7,
   "metadata": {},
   "outputs": [
    {
     "name": "stdout",
     "output_type": "stream",
     "text": [
      "(5,)\n"
     ]
    }
   ],
   "source": [
    "# 열벡터도 아니고 행벡터도 아니다!\n",
    "print(a.shape)"
   ]
  },
  {
   "cell_type": "code",
   "execution_count": 8,
   "metadata": {},
   "outputs": [
    {
     "name": "stdout",
     "output_type": "stream",
     "text": [
      "[-0.70451238  0.5361303  -1.34377666  1.65514002  0.83622406]\n"
     ]
    }
   ],
   "source": [
    "print(a.T)"
   ]
  },
  {
   "cell_type": "code",
   "execution_count": 9,
   "metadata": {},
   "outputs": [
    {
     "name": "stdout",
     "output_type": "stream",
     "text": [
      "6.0282682557279434\n"
     ]
    }
   ],
   "source": [
    "print(np.dot(a, a.T))"
   ]
  },
  {
   "cell_type": "code",
   "execution_count": 10,
   "metadata": {},
   "outputs": [
    {
     "name": "stdout",
     "output_type": "stream",
     "text": [
      "[[-1.10282361]\n",
      " [ 0.56860846]\n",
      " [ 1.16326191]\n",
      " [-0.03293801]\n",
      " [ 1.7976624 ]]\n"
     ]
    }
   ],
   "source": [
    "a = np.random.randn(5,1)\n",
    "print(a)"
   ]
  },
  {
   "cell_type": "code",
   "execution_count": 11,
   "metadata": {},
   "outputs": [
    {
     "name": "stdout",
     "output_type": "stream",
     "text": [
      "[[-1.10282361  0.56860846  1.16326191 -0.03293801  1.7976624 ]]\n"
     ]
    }
   ],
   "source": [
    "print(a.T)"
   ]
  },
  {
   "cell_type": "code",
   "execution_count": 13,
   "metadata": {},
   "outputs": [
    {
     "name": "stdout",
     "output_type": "stream",
     "text": [
      "[[ 1.21621992e+00 -6.27074840e-01 -1.28287270e+00  3.63248203e-02\n",
      "  -1.98250454e+00]\n",
      " [-6.27074840e-01  3.23315586e-01  6.61440569e-01 -1.87288339e-02\n",
      "   1.02216605e+00]\n",
      " [-1.28287270e+00  6.61440569e-01  1.35317827e+00 -3.83155379e-02\n",
      "   2.09115220e+00]\n",
      " [ 3.63248203e-02 -1.87288339e-02 -3.83155379e-02  1.08491281e-03\n",
      "  -5.92114304e-02]\n",
      " [-1.98250454e+00  1.02216605e+00  2.09115220e+00 -5.92114304e-02\n",
      "   3.23159009e+00]]\n",
      "(5, 5)\n"
     ]
    }
   ],
   "source": [
    "print(np.dot(a,a.T))\n",
    "print(np.dot(a,a.T).shape)"
   ]
  },
  {
   "cell_type": "code",
   "execution_count": 16,
   "metadata": {},
   "outputs": [],
   "source": [
    "# assert문을 사용해서 확인하자!\n",
    "assert(a.shape==(5,1))"
   ]
  }
 ],
 "metadata": {
  "kernelspec": {
   "display_name": "Python 3",
   "language": "python",
   "name": "python3"
  },
  "language_info": {
   "codemirror_mode": {
    "name": "ipython",
    "version": 3
   },
   "file_extension": ".py",
   "mimetype": "text/x-python",
   "name": "python",
   "nbconvert_exporter": "python",
   "pygments_lexer": "ipython3",
   "version": "3.9.6"
  },
  "orig_nbformat": 4
 },
 "nbformat": 4,
 "nbformat_minor": 2
}
