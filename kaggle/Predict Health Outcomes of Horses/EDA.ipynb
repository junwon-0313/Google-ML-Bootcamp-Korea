{
 "cells": [
  {
   "cell_type": "markdown",
   "metadata": {},
   "source": [
    "# EDA"
   ]
  },
  {
   "cell_type": "code",
   "execution_count": null,
   "metadata": {},
   "outputs": [],
   "source": [
    "import pandas as pd \n",
    "\n",
    "train_df = pd.read_csv(\"train.csv\")\n",
    "test_df = pd.read_csv(\"test.csv\")"
   ]
  },
  {
   "cell_type": "code",
   "execution_count": null,
   "metadata": {},
   "outputs": [],
   "source": [
    "test_df"
   ]
  },
  {
   "cell_type": "code",
   "execution_count": null,
   "metadata": {},
   "outputs": [],
   "source": [
    "train_df"
   ]
  },
  {
   "cell_type": "code",
   "execution_count": null,
   "metadata": {},
   "outputs": [],
   "source": [
    "train_df.columns"
   ]
  },
  {
   "cell_type": "code",
   "execution_count": null,
   "metadata": {},
   "outputs": [],
   "source": [
    "train_df.info()"
   ]
  },
  {
   "cell_type": "markdown",
   "metadata": {},
   "source": [
    "id: 환자의 고유 식별자(ID)입니다.\n",
    "\n",
    "surgery: 수술 여부를 나타냅니다. 이진(binary) 데이터로, 1은 수술을 받았음을, 2는 수술을 받지 않았음을 나타냅니다.\n",
    "\n",
    "age: 환자의 나이입니다. 이진 데이터로, 1은 성인 말을 나타내며, 2는 젊은 말을 나타냅니다.\n",
    "\n",
    "hospital_number: 환자의 병원 번호 또는 식별 번호입니다.\n",
    "\n",
    "rectal_temp: 직장(항문) 온도를 나타냅니다. 섭씨(Celsius) 단위로 측정됩니다.\n",
    "\n",
    "pulse: 말의 맥박수를 나타냅니다.\n",
    "\n",
    "respiratory_rate: 말의 호흡 속도를 나타냅니다.\n",
    "\n",
    "temp_of_extremities: 사지(다리)의 온도 상태를 나타냅니다. 이는 범주형 데이터로, 다양한 값들을 가질 수 있습니다.\n",
    "\n",
    "peripheral_pulse: 말의 말단 혈액 순환 상태를 나타냅니다. 이 역시 범주형 데이터로, 다양한 상태를 나타낼 수 있습니다.\n",
    "\n",
    "mucous_membrane: 점막의 상태를 나타냅니다. 이 또한 범주형 데이터로, 다양한 상태를 기록할 수 있습니다.\n",
    "\n",
    "capillary_refill_time: 모세혈관 보충 시간을 나타냅니다. 이 역시 범주형 데이터로, 혈액 순환 상태를 평가하는 데 사용됩니다.\n",
    "\n",
    "pain: 말의 통증 정도를 나타냅니다. 이진 데이터로, 다양한 정도의 통증을 나타낼 수 있습니다.\n",
    "\n",
    "peristalsis: 장관의 근육 수축 상태를 나타냅니다. 범주형 데이터로, 다양한 상태를 기록할 수 있습니다.\n",
    "\n",
    "abdominal_distention: 복부 팽만 정도를 나타냅니다. 범주형 데이터로, 다양한 정도의 복부 팽만을 나타낼 수 있습니다.\n",
    "\n",
    "nasogastric_tube: 비위관의 삽입 여부를 나타냅니다. 이진 데이터로, 1은 삽입되었음을, 2는 삽입되지 않았음을 나타냅니다.\n",
    "\n",
    "nasogastric_reflux: 비위 흐름 여부를 나타냅니다. 이진 데이터로, 1은 흐름이 있음을, 2는 흐름이 없음을 나타냅니다.\n",
    "\n",
    "nasogastric_reflux_ph: 비위 흐름의 pH 값을 나타냅니다.\n",
    "\n",
    "rectal_exam_feces: 직장 검사에서의 대변 상태를 나타냅니다. 범주형 데이터로, 다양한 상태를 기록할 수 있습니다.\n",
    "\n",
    "abdomen: 복부 상태를 나타냅니다. 범주형 데이터로, 다양한 복부 상태를 기록할 수 있습니다.\n",
    "\n",
    "packed_cell_volume: 포장된 혈액의 비율을 나타냅니다.\n",
    "\n",
    "total_protein: 총 단백질 수치를 나타냅니다.\n",
    "\n",
    "abdomo_appearance: 복부 외관을 나타냅니다. 범주형 데이터로, 복부의 외부 상태를 기록할 수 있습니다.\n",
    "\n",
    "abdomo_protein: 복부 내 단백질 수치를 나타냅니다.\n",
    "\n",
    "surgical_lesion: 수술 부위의 병변 여부를 나타냅니다. 이진 데이터로, 1은 병변이 있음을, 2는 병변이 없음을 나타냅니다.\n",
    "\n",
    "lesion_1, lesion_2, lesion_3: 수술 부위의 병변에 대한 자세한 정보를 포함하는 열입니다.\n",
    "\n",
    "cp_data: 병리학적 데이터의 유무를 나타냅니다. 이진 데이터로, 1은 데이터가 있음을, 2는 데이터가 없음을 나타냅니다.\n",
    "\n",
    "outcome: 환자의 결과를 나타냅니다. 이 역시 범주형 데이터로, 다양한 결과 상태를 기록할 수 있습니다.\n",
    "\n",
    "이러한 데이터 열은 말의 건강 상태와 관련된 다양한 정보를 포함하고 있으며, 분석 및 모델링을 통해 말의 건강을 평가하고 예측하는 데 사용될 수 있습니다."
   ]
  },
  {
   "cell_type": "code",
   "execution_count": null,
   "metadata": {},
   "outputs": [],
   "source": [
    "train_df['id'].describe()"
   ]
  },
  {
   "cell_type": "code",
   "execution_count": null,
   "metadata": {},
   "outputs": [],
   "source": [
    "train_df['id'].info()"
   ]
  },
  {
   "cell_type": "code",
   "execution_count": null,
   "metadata": {},
   "outputs": [],
   "source": [
    "correlation_matrix = train_df.corr()\n",
    "target_correlation = correlation_matrix['outcome'].abs().sort_values(ascending=False)\n",
    "important_features = target_correlation[1:]  # Exclude the target itself"
   ]
  },
  {
   "cell_type": "code",
   "execution_count": null,
   "metadata": {},
   "outputs": [],
   "source": [
    "from sklearn.ensemble import RandomForestClassifier\n",
    "\n",
    "# 모델 생성\n",
    "model = RandomForestClassifier()\n",
    "\n",
    "# 데이터 준비\n",
    "X = train_df.drop(columns=['outcome'])  # 피처들\n",
    "y = train_df['outcome']  # 타겟 변수\n",
    "\n",
    "# 모델 훈련\n",
    "model.fit(X, y)\n",
    "\n",
    "# 피처 중요도\n",
    "feature_importance = model.feature_importances_"
   ]
  },
  {
   "cell_type": "code",
   "execution_count": null,
   "metadata": {},
   "outputs": [],
   "source": []
  }
 ],
 "metadata": {
  "kernelspec": {
   "display_name": "Python 3",
   "language": "python",
   "name": "python3"
  },
  "language_info": {
   "codemirror_mode": {
    "name": "ipython",
    "version": 3
   },
   "file_extension": ".py",
   "mimetype": "text/x-python",
   "name": "python",
   "nbconvert_exporter": "python",
   "pygments_lexer": "ipython3",
   "version": "3.9.6"
  },
  "orig_nbformat": 4
 },
 "nbformat": 4,
 "nbformat_minor": 2
}
