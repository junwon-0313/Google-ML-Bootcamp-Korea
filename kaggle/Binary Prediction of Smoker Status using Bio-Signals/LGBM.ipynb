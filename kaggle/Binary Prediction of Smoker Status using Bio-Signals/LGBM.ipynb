{
 "cells": [
  {
   "cell_type": "markdown",
   "id": "5e4f37b6",
   "metadata": {
    "papermill": {
     "duration": 0.011982,
     "end_time": "2023-11-06T23:45:48.847681",
     "exception": false,
     "start_time": "2023-11-06T23:45:48.835699",
     "status": "completed"
    },
    "tags": []
   },
   "source": [
    "## 健診データから喫煙者か否かを予測する\n",
    "## Binary Prediction of Smoker Status using Bio-Signals"
   ]
  },
  {
   "cell_type": "markdown",
   "id": "b3b60c26",
   "metadata": {
    "papermill": {
     "duration": 0.011465,
     "end_time": "2023-11-06T23:45:48.871025",
     "exception": false,
     "start_time": "2023-11-06T23:45:48.859560",
     "status": "completed"
    },
    "tags": []
   },
   "source": [
    "##### 前回に引き続き二値分類の課題ですので、Objectiveとしてbinary、Metricとしてbinary_loglossを使います。与えられたデータには欠損値もありませんし、整数または小数値なので、一旦はそのまま処理していきます（0/1および1/2で分類されているものもありますので、後でここに手を加えるかもしれません）。トレーニングデータに一部外れ値らしきものがありますので、これだけは除外しようと思います。\n",
    "##### Continuing from last time, this is a binary classification problem, so we will use binary as the objective and binary_logloss as the metric. The given data has no missing values and is an integer or decimal value, so we will process it as is (some data is classified as 0/1 and 1/2, so we will deal with this later). There are some outliers in the training data, so I would like to exclude them."
   ]
  },
  {
   "cell_type": "markdown",
   "metadata": {},
   "source": [
    "이상치가 있으므로 이상치를 제거!"
   ]
  },
  {
   "cell_type": "markdown",
   "id": "a5345850",
   "metadata": {
    "papermill": {
     "duration": 0.01156,
     "end_time": "2023-11-06T23:45:48.895133",
     "exception": false,
     "start_time": "2023-11-06T23:45:48.883573",
     "status": "completed"
    },
    "tags": []
   },
   "source": [
    "# 1. ライブラリと設定\n",
    "## Libraries and settings"
   ]
  },
  {
   "cell_type": "code",
   "execution_count": null,
   "id": "f61a8cfa",
   "metadata": {
    "execution": {
     "iopub.execute_input": "2023-11-06T23:45:48.920812Z",
     "iopub.status.busy": "2023-11-06T23:45:48.920493Z",
     "iopub.status.idle": "2023-11-06T23:45:53.612593Z",
     "shell.execute_reply": "2023-11-06T23:45:53.611692Z"
    },
    "papermill": {
     "duration": 4.708377,
     "end_time": "2023-11-06T23:45:53.614934",
     "exception": false,
     "start_time": "2023-11-06T23:45:48.906557",
     "status": "completed"
    },
    "tags": []
   },
   "outputs": [],
   "source": [
    "import numpy as np\n",
    "import pandas as pd\n",
    "\n",
    "import sys\n",
    "import datetime\n",
    "import time\n",
    "import math\n",
    "\n",
    "import lightgbm as lgb\n",
    "import optuna.integration.lightgbm as lgbo\n",
    "\n",
    "from sklearn import preprocessing\n",
    "from sklearn.preprocessing import MinMaxScaler, StandardScaler, MaxAbsScaler, RobustScaler, PowerTransformer, QuantileTransformer\n",
    "le = preprocessing.LabelEncoder()\n",
    "from sklearn.preprocessing import OrdinalEncoder\n",
    "from sklearn.model_selection import train_test_split\n",
    "from sklearn.metrics import mean_absolute_error # 平均絶対誤差\n",
    "from sklearn.metrics import mean_squared_error # 平均二乗誤差\n",
    "from sklearn.metrics import mean_squared_log_error # 対数平均二乗誤差\n",
    "from sklearn.metrics import r2_score # 決定係数\n",
    "from sklearn.metrics import roc_curve\n",
    "from sklearn.metrics import confusion_matrix, classification_report, accuracy_score\n",
    "from sklearn.metrics import auc\n",
    "import matplotlib.pyplot as plt\n",
    "import seaborn as sns\n",
    "sns.set()\n",
    "\n",
    "import missingno as msno\n",
    "import plotly.express as px\n",
    "\n",
    "import warnings\n",
    "warnings.filterwarnings(\"ignore\")"
   ]
  },
  {
   "cell_type": "code",
   "execution_count": null,
   "id": "4d14d93f",
   "metadata": {
    "execution": {
     "iopub.execute_input": "2023-11-06T23:45:53.639847Z",
     "iopub.status.busy": "2023-11-06T23:45:53.639506Z",
     "iopub.status.idle": "2023-11-06T23:45:53.643718Z",
     "shell.execute_reply": "2023-11-06T23:45:53.642544Z"
    },
    "papermill": {
     "duration": 0.019655,
     "end_time": "2023-11-06T23:45:53.646210",
     "exception": false,
     "start_time": "2023-11-06T23:45:53.626555",
     "status": "completed"
    },
    "tags": []
   },
   "outputs": [],
   "source": [
    "start_time = time.time()"
   ]
  },
  {
   "cell_type": "code",
   "execution_count": null,
   "id": "50a7d428",
   "metadata": {
    "execution": {
     "iopub.execute_input": "2023-11-06T23:45:53.671884Z",
     "iopub.status.busy": "2023-11-06T23:45:53.671392Z",
     "iopub.status.idle": "2023-11-06T23:45:53.675735Z",
     "shell.execute_reply": "2023-11-06T23:45:53.674799Z"
    },
    "papermill": {
     "duration": 0.019703,
     "end_time": "2023-11-06T23:45:53.677491",
     "exception": false,
     "start_time": "2023-11-06T23:45:53.657788",
     "status": "completed"
    },
    "tags": []
   },
   "outputs": [],
   "source": [
    "# Pandas setting to display more dataset rows and columns\n",
    "pd.set_option('display.max_rows', 150)\n",
    "pd.set_option('display.max_columns', 600)\n",
    "pd.set_option('display.max_colwidth', None)\n",
    "pd.set_option('display.float_format', lambda x: '%.5f' % x)"
   ]
  },
  {
   "cell_type": "code",
   "execution_count": null,
   "id": "0ca0fca7",
   "metadata": {
    "execution": {
     "iopub.execute_input": "2023-11-06T23:45:53.702715Z",
     "iopub.status.busy": "2023-11-06T23:45:53.702225Z",
     "iopub.status.idle": "2023-11-06T23:45:53.705832Z",
     "shell.execute_reply": "2023-11-06T23:45:53.704661Z"
    },
    "papermill": {
     "duration": 0.019318,
     "end_time": "2023-11-06T23:45:53.708515",
     "exception": false,
     "start_time": "2023-11-06T23:45:53.689197",
     "status": "completed"
    },
    "tags": []
   },
   "outputs": [],
   "source": [
    "# 2. データのインポート\n",
    "## Import data"
   ]
  },
  {
   "cell_type": "code",
   "execution_count": null,
   "id": "dbbed7f3",
   "metadata": {
    "execution": {
     "iopub.execute_input": "2023-11-06T23:45:53.733859Z",
     "iopub.status.busy": "2023-11-06T23:45:53.733556Z",
     "iopub.status.idle": "2023-11-06T23:45:54.365562Z",
     "shell.execute_reply": "2023-11-06T23:45:54.364365Z"
    },
    "papermill": {
     "duration": 0.647629,
     "end_time": "2023-11-06T23:45:54.368025",
     "exception": false,
     "start_time": "2023-11-06T23:45:53.720396",
     "status": "completed"
    },
    "tags": []
   },
   "outputs": [],
   "source": [
    "sample_submission = pd.read_csv('./sample_submission.csv')\n",
    "train = pd.read_csv('./train.csv')\n",
    "test = pd.read_csv('./test.csv')\n",
    "origin = pd.read_csv('./origin_train_dataset.csv')"
   ]
  },
  {
   "cell_type": "code",
   "execution_count": null,
   "id": "49e2273f",
   "metadata": {
    "execution": {
     "iopub.execute_input": "2023-11-06T23:45:54.392519Z",
     "iopub.status.busy": "2023-11-06T23:45:54.392182Z",
     "iopub.status.idle": "2023-11-06T23:45:54.413151Z",
     "shell.execute_reply": "2023-11-06T23:45:54.412464Z"
    },
    "papermill": {
     "duration": 0.035241,
     "end_time": "2023-11-06T23:45:54.414891",
     "exception": false,
     "start_time": "2023-11-06T23:45:54.379650",
     "status": "completed"
    },
    "tags": []
   },
   "outputs": [],
   "source": [
    "sample_submission"
   ]
  },
  {
   "cell_type": "code",
   "execution_count": null,
   "id": "ef9a138d",
   "metadata": {
    "execution": {
     "iopub.execute_input": "2023-11-06T23:45:54.491685Z",
     "iopub.status.busy": "2023-11-06T23:45:54.491181Z",
     "iopub.status.idle": "2023-11-06T23:45:54.514035Z",
     "shell.execute_reply": "2023-11-06T23:45:54.512776Z"
    },
    "papermill": {
     "duration": 0.038052,
     "end_time": "2023-11-06T23:45:54.516029",
     "exception": false,
     "start_time": "2023-11-06T23:45:54.477977",
     "status": "completed"
    },
    "tags": []
   },
   "outputs": [],
   "source": [
    "train"
   ]
  },
  {
   "cell_type": "code",
   "execution_count": null,
   "id": "1014aaf0",
   "metadata": {
    "execution": {
     "iopub.execute_input": "2023-11-06T23:45:54.598243Z",
     "iopub.status.busy": "2023-11-06T23:45:54.597883Z",
     "iopub.status.idle": "2023-11-06T23:45:54.611575Z",
     "shell.execute_reply": "2023-11-06T23:45:54.610286Z"
    },
    "papermill": {
     "duration": 0.030128,
     "end_time": "2023-11-06T23:45:54.613776",
     "exception": false,
     "start_time": "2023-11-06T23:45:54.583648",
     "status": "completed"
    },
    "tags": []
   },
   "outputs": [],
   "source": [
    "train.info()"
   ]
  },
  {
   "cell_type": "code",
   "execution_count": null,
   "id": "028d79cb",
   "metadata": {
    "execution": {
     "iopub.execute_input": "2023-11-06T23:45:54.642199Z",
     "iopub.status.busy": "2023-11-06T23:45:54.641829Z",
     "iopub.status.idle": "2023-11-06T23:45:54.665916Z",
     "shell.execute_reply": "2023-11-06T23:45:54.664897Z"
    },
    "papermill": {
     "duration": 0.040884,
     "end_time": "2023-11-06T23:45:54.667914",
     "exception": false,
     "start_time": "2023-11-06T23:45:54.627030",
     "status": "completed"
    },
    "tags": []
   },
   "outputs": [],
   "source": [
    "test"
   ]
  },
  {
   "cell_type": "code",
   "execution_count": null,
   "id": "f591ae19",
   "metadata": {
    "execution": {
     "iopub.execute_input": "2023-11-06T23:45:54.694723Z",
     "iopub.status.busy": "2023-11-06T23:45:54.694424Z",
     "iopub.status.idle": "2023-11-06T23:45:54.707526Z",
     "shell.execute_reply": "2023-11-06T23:45:54.706014Z"
    },
    "papermill": {
     "duration": 0.028608,
     "end_time": "2023-11-06T23:45:54.709499",
     "exception": false,
     "start_time": "2023-11-06T23:45:54.680891",
     "status": "completed"
    },
    "tags": []
   },
   "outputs": [],
   "source": [
    "test.info()"
   ]
  },
  {
   "cell_type": "code",
   "execution_count": null,
   "id": "0c774d57",
   "metadata": {
    "execution": {
     "iopub.execute_input": "2023-11-06T23:45:54.736985Z",
     "iopub.status.busy": "2023-11-06T23:45:54.736608Z",
     "iopub.status.idle": "2023-11-06T23:45:54.760305Z",
     "shell.execute_reply": "2023-11-06T23:45:54.759174Z"
    },
    "papermill": {
     "duration": 0.040312,
     "end_time": "2023-11-06T23:45:54.762707",
     "exception": false,
     "start_time": "2023-11-06T23:45:54.722395",
     "status": "completed"
    },
    "tags": []
   },
   "outputs": [],
   "source": [
    "origin"
   ]
  },
  {
   "cell_type": "code",
   "execution_count": null,
   "id": "2ad45ee7",
   "metadata": {
    "execution": {
     "iopub.execute_input": "2023-11-06T23:45:54.791163Z",
     "iopub.status.busy": "2023-11-06T23:45:54.790801Z",
     "iopub.status.idle": "2023-11-06T23:45:54.803288Z",
     "shell.execute_reply": "2023-11-06T23:45:54.802012Z"
    },
    "papermill": {
     "duration": 0.0287,
     "end_time": "2023-11-06T23:45:54.804994",
     "exception": false,
     "start_time": "2023-11-06T23:45:54.776294",
     "status": "completed"
    },
    "tags": []
   },
   "outputs": [],
   "source": [
    "origin.info()"
   ]
  },
  {
   "cell_type": "markdown",
   "id": "b166b1ab",
   "metadata": {
    "papermill": {
     "duration": 0.012634,
     "end_time": "2023-11-06T23:45:54.831564",
     "exception": false,
     "start_time": "2023-11-06T23:45:54.818930",
     "status": "completed"
    },
    "tags": []
   },
   "source": [
    "# 3. 前処理\n",
    "## Preprosessing"
   ]
  },
  {
   "cell_type": "code",
   "execution_count": null,
   "id": "afa2ea03",
   "metadata": {
    "execution": {
     "iopub.execute_input": "2023-11-06T23:45:54.859703Z",
     "iopub.status.busy": "2023-11-06T23:45:54.858892Z",
     "iopub.status.idle": "2023-11-06T23:45:54.867705Z",
     "shell.execute_reply": "2023-11-06T23:45:54.866761Z"
    },
    "papermill": {
     "duration": 0.024779,
     "end_time": "2023-11-06T23:45:54.869370",
     "exception": false,
     "start_time": "2023-11-06T23:45:54.844591",
     "status": "completed"
    },
    "tags": []
   },
   "outputs": [],
   "source": [
    "# id 값을 제거하고 피처를 확인\n",
    "# Check features included in train\n",
    "\n",
    "feat_train = train.columns.drop('id').tolist()\n",
    "feat_train"
   ]
  },
  {
   "cell_type": "code",
   "execution_count": null,
   "id": "83c989a9",
   "metadata": {
    "execution": {
     "iopub.execute_input": "2023-11-06T23:45:54.898260Z",
     "iopub.status.busy": "2023-11-06T23:45:54.897636Z",
     "iopub.status.idle": "2023-11-06T23:45:54.904317Z",
     "shell.execute_reply": "2023-11-06T23:45:54.903600Z"
    },
    "papermill": {
     "duration": 0.022662,
     "end_time": "2023-11-06T23:45:54.905953",
     "exception": false,
     "start_time": "2023-11-06T23:45:54.883291",
     "status": "completed"
    },
    "tags": []
   },
   "outputs": [],
   "source": [
    "# test に含まれる特徴量を確認\n",
    "# Check features included in test\n",
    "\n",
    "feat_test = test.columns.drop('id').tolist()\n",
    "feat_test"
   ]
  },
  {
   "cell_type": "markdown",
   "metadata": {},
   "source": [
    "### smoking train에 존재"
   ]
  },
  {
   "cell_type": "markdown",
   "id": "b7a80d37",
   "metadata": {
    "papermill": {
     "duration": 0.013267,
     "end_time": "2023-11-06T23:45:54.933099",
     "exception": false,
     "start_time": "2023-11-06T23:45:54.919832",
     "status": "completed"
    },
    "tags": []
   },
   "source": [
    "1. age: 나이\n",
    "2. height(cm): 키(cm)\n",
    "3. weight(kg): 체중(kg)\n",
    "4. waist(cm): 허리둘레(cm)\n",
    "5. eyesight(left): 시력(왼쪽)\n",
    "6. eyesight(right): 시력(오른쪽)\n",
    "7. hearing(left): 청력(왼쪽)\n",
    "8. hearing(right): 청력(오른쪽)\n",
    "9. systolic: 수축기 혈압\n",
    "10. relaxation: 이완기 혈압\n",
    "11. fasting blood sugar: 공복 혈당\n",
    "12. Cholesterol: 콜레스테롤\n",
    "13. triglyceride: 중성지방\n",
    "14. HDL: HDL 콜레스테롤\n",
    "15. LDL: LDL 콜레스테롤\n",
    "16. hemoglobin: 헤모글로빈\n",
    "17. Urine protein: 요단백\n",
    "18. serum creatinine: 혈청 크레아티닌\n",
    "19. AST: 아스파타미노트랜스페라아제 (간 기능)\n",
    "20. ALT: 알라닌 아미노트랜스페라아제 (간 기능)\n",
    "21. Gtp: 감마GTP\n",
    "22. dental caries: 치아 충치\n",
    "23. smoking: 흡연"
   ]
  },
  {
   "cell_type": "code",
   "execution_count": null,
   "id": "eb20a9db",
   "metadata": {
    "execution": {
     "iopub.execute_input": "2023-11-06T23:45:54.962073Z",
     "iopub.status.busy": "2023-11-06T23:45:54.961700Z",
     "iopub.status.idle": "2023-11-06T23:45:55.091479Z",
     "shell.execute_reply": "2023-11-06T23:45:55.090314Z"
    },
    "papermill": {
     "duration": 0.147076,
     "end_time": "2023-11-06T23:45:55.093784",
     "exception": false,
     "start_time": "2023-11-06T23:45:54.946708",
     "status": "completed"
    },
    "tags": []
   },
   "outputs": [],
   "source": [
    "# trainとorigin、testを結合\n",
    "# Concat train, origin and test\n",
    "\n",
    "data_t_o = pd.concat([train, origin], ignore_index=True)\n",
    "data_t_o = data_t_o.drop_duplicates() # 重複データを削除\n",
    "\n",
    "data_t_o"
   ]
  },
  {
   "cell_type": "markdown",
   "id": "06a2c8f8",
   "metadata": {
    "papermill": {
     "duration": 0.013819,
     "end_time": "2023-11-06T23:45:55.122005",
     "exception": false,
     "start_time": "2023-11-06T23:45:55.108186",
     "status": "completed"
    },
    "tags": []
   },
   "source": [
    "train : 159256rows<br>\n",
    "origin:  38984rows<br>\n",
    "total : 198240rows<br>\n",
    "198240 - 192723 = 5517<br>\n",
    "\n",
    "5517の重複データがあります<br>\n",
    "5517 duplications"
   ]
  },
  {
   "cell_type": "code",
   "execution_count": null,
   "id": "75646b60",
   "metadata": {
    "execution": {
     "iopub.execute_input": "2023-11-06T23:45:55.151703Z",
     "iopub.status.busy": "2023-11-06T23:45:55.151399Z",
     "iopub.status.idle": "2023-11-06T23:45:55.178878Z",
     "shell.execute_reply": "2023-11-06T23:45:55.177867Z"
    },
    "papermill": {
     "duration": 0.045167,
     "end_time": "2023-11-06T23:45:55.181126",
     "exception": false,
     "start_time": "2023-11-06T23:45:55.135959",
     "status": "completed"
    },
    "tags": []
   },
   "outputs": [],
   "source": [
    "# trainとorigin、testを結合\n",
    "# Concat train, origin and test\n",
    "\n",
    "data_all = pd.concat([data_t_o, test], ignore_index=True)\n",
    "\n",
    "data_all"
   ]
  },
  {
   "cell_type": "markdown",
   "id": "98b6f8da",
   "metadata": {
    "execution": {
     "iopub.execute_input": "2023-10-24T00:22:15.427784Z",
     "iopub.status.busy": "2023-10-24T00:22:15.427385Z",
     "iopub.status.idle": "2023-10-24T00:22:15.432341Z",
     "shell.execute_reply": "2023-10-24T00:22:15.431021Z",
     "shell.execute_reply.started": "2023-10-24T00:22:15.427751Z"
    },
    "papermill": {
     "duration": 0.018349,
     "end_time": "2023-11-06T23:45:55.219584",
     "exception": false,
     "start_time": "2023-11-06T23:45:55.201235",
     "status": "completed"
    },
    "tags": []
   },
   "source": [
    "# 4. 探索的データ解析\n",
    "## EDA"
   ]
  },
  {
   "cell_type": "code",
   "execution_count": null,
   "id": "8309209c",
   "metadata": {
    "execution": {
     "iopub.execute_input": "2023-11-06T23:45:55.261021Z",
     "iopub.status.busy": "2023-11-06T23:45:55.259727Z",
     "iopub.status.idle": "2023-11-06T23:45:57.213255Z",
     "shell.execute_reply": "2023-11-06T23:45:57.212066Z"
    },
    "papermill": {
     "duration": 1.976463,
     "end_time": "2023-11-06T23:45:57.215809",
     "exception": false,
     "start_time": "2023-11-06T23:45:55.239346",
     "status": "completed"
    },
    "tags": []
   },
   "outputs": [],
   "source": [
    "# 欠損値の有無を可視化します\n",
    "# Search for missing data\n",
    "\n",
    "msno.matrix(df=data_all, figsize=(10,6), color=(0,.3,.3))\n"
   ]
  },
  {
   "cell_type": "markdown",
   "id": "68cf241f",
   "metadata": {
    "papermill": {
     "duration": 0.014781,
     "end_time": "2023-11-06T23:45:57.246295",
     "exception": false,
     "start_time": "2023-11-06T23:45:57.231514",
     "status": "completed"
    },
    "tags": []
   },
   "source": [
    "##### 欠損値はありません（idの欠損はoriginの分）\n",
    "##### No missing value(Missing \"id\" is \"origin\")"
   ]
  },
  {
   "cell_type": "code",
   "execution_count": null,
   "id": "7898da8b",
   "metadata": {
    "execution": {
     "iopub.execute_input": "2023-11-06T23:45:57.279891Z",
     "iopub.status.busy": "2023-11-06T23:45:57.279551Z",
     "iopub.status.idle": "2023-11-06T23:45:57.549954Z",
     "shell.execute_reply": "2023-11-06T23:45:57.548569Z"
    },
    "papermill": {
     "duration": 0.290974,
     "end_time": "2023-11-06T23:45:57.552504",
     "exception": false,
     "start_time": "2023-11-06T23:45:57.261530",
     "status": "completed"
    },
    "tags": []
   },
   "outputs": [],
   "source": [
    "data_all[feat_train].describe().T\\\n",
    "        .style.bar(subset=['mean'], color=px.colors.qualitative.G10[0])\\\n",
    "        .background_gradient(subset=['std'], cmap='Greens')\\\n",
    "        .background_gradient(subset=['50%'], cmap='BuGn')"
   ]
  },
  {
   "cell_type": "code",
   "execution_count": null,
   "id": "c82c4809",
   "metadata": {
    "execution": {
     "iopub.execute_input": "2023-11-06T23:45:57.586632Z",
     "iopub.status.busy": "2023-11-06T23:45:57.586317Z",
     "iopub.status.idle": "2023-11-06T23:45:57.647189Z",
     "shell.execute_reply": "2023-11-06T23:45:57.646321Z"
    },
    "papermill": {
     "duration": 0.080473,
     "end_time": "2023-11-06T23:45:57.649092",
     "exception": false,
     "start_time": "2023-11-06T23:45:57.568619",
     "status": "completed"
    },
    "tags": []
   },
   "outputs": [],
   "source": [
    "# get_dummiesメソッドで特徴量を分割\n",
    "# Divide features with get_dummies method\n",
    "\n",
    "list_feat = ['hearing(left)', 'hearing(right)', 'dental caries']\n",
    "data_all = pd.get_dummies(data_all, columns=list_feat, dtype='uint8')\n",
    "data_all"
   ]
  },
  {
   "cell_type": "code",
   "execution_count": null,
   "id": "1fb1b0e4",
   "metadata": {
    "execution": {
     "iopub.execute_input": "2023-11-06T23:45:57.684882Z",
     "iopub.status.busy": "2023-11-06T23:45:57.683948Z",
     "iopub.status.idle": "2023-11-06T23:45:57.690429Z",
     "shell.execute_reply": "2023-11-06T23:45:57.688981Z"
    },
    "papermill": {
     "duration": 0.027031,
     "end_time": "2023-11-06T23:45:57.692947",
     "exception": false,
     "start_time": "2023-11-06T23:45:57.665916",
     "status": "completed"
    },
    "tags": []
   },
   "outputs": [],
   "source": [
    "#feat_train = data_all.columns.drop(['id']).tolist()\n",
    "feat_test = data_all.columns.drop(['id', 'smoking']).tolist()"
   ]
  },
  {
   "cell_type": "code",
   "execution_count": null,
   "id": "85d46af2",
   "metadata": {
    "execution": {
     "iopub.execute_input": "2023-11-06T23:45:57.728339Z",
     "iopub.status.busy": "2023-11-06T23:45:57.727826Z",
     "iopub.status.idle": "2023-11-06T23:45:57.732871Z",
     "shell.execute_reply": "2023-11-06T23:45:57.731619Z"
    },
    "papermill": {
     "duration": 0.025633,
     "end_time": "2023-11-06T23:45:57.735234",
     "exception": false,
     "start_time": "2023-11-06T23:45:57.709601",
     "status": "completed"
    },
    "tags": []
   },
   "outputs": [],
   "source": [
    "# データをトレーニング用と予測用に分けます\n",
    "# Split train and test\n",
    "\n",
    "train = data_all.loc[data_t_o.index[0]:data_t_o.index[-1]-5517]\n",
    "test = data_all.loc[data_t_o.index[-1]+1-5517:]"
   ]
  },
  {
   "cell_type": "code",
   "execution_count": null,
   "id": "4ee7f55c",
   "metadata": {
    "execution": {
     "iopub.execute_input": "2023-11-06T23:45:57.770411Z",
     "iopub.status.busy": "2023-11-06T23:45:57.770051Z",
     "iopub.status.idle": "2023-11-06T23:45:57.789511Z",
     "shell.execute_reply": "2023-11-06T23:45:57.788836Z"
    },
    "papermill": {
     "duration": 0.039133,
     "end_time": "2023-11-06T23:45:57.791087",
     "exception": false,
     "start_time": "2023-11-06T23:45:57.751954",
     "status": "completed"
    },
    "tags": []
   },
   "outputs": [],
   "source": [
    "train"
   ]
  },
  {
   "cell_type": "code",
   "execution_count": null,
   "id": "809f816e",
   "metadata": {
    "execution": {
     "iopub.execute_input": "2023-11-06T23:45:57.826015Z",
     "iopub.status.busy": "2023-11-06T23:45:57.825452Z",
     "iopub.status.idle": "2023-11-06T23:45:57.844481Z",
     "shell.execute_reply": "2023-11-06T23:45:57.843360Z"
    },
    "papermill": {
     "duration": 0.038597,
     "end_time": "2023-11-06T23:45:57.846382",
     "exception": false,
     "start_time": "2023-11-06T23:45:57.807785",
     "status": "completed"
    },
    "tags": []
   },
   "outputs": [],
   "source": [
    "test"
   ]
  },
  {
   "cell_type": "code",
   "execution_count": null,
   "id": "2ada0540",
   "metadata": {
    "execution": {
     "iopub.execute_input": "2023-11-06T23:45:57.883653Z",
     "iopub.status.busy": "2023-11-06T23:45:57.883323Z",
     "iopub.status.idle": "2023-11-06T23:46:12.864635Z",
     "shell.execute_reply": "2023-11-06T23:46:12.863412Z"
    },
    "papermill": {
     "duration": 15.003247,
     "end_time": "2023-11-06T23:46:12.867137",
     "exception": false,
     "start_time": "2023-11-06T23:45:57.863890",
     "status": "completed"
    },
    "tags": []
   },
   "outputs": [],
   "source": [
    "# トレーニングデータとテストデータの分布を可視化\n",
    "# Plot histograms (train and test)\n",
    "\n",
    "for feat in feat_test:\n",
    "    plt.figure(figsize=(12,3))\n",
    "    ax1 = plt.subplot(1,2,1)\n",
    "    train[feat].plot(kind='hist', bins=50, color='blue')\n",
    "    plt.title(feat + ' / train')\n",
    "    ax2 = plt.subplot(1,2,2, sharex=ax1)\n",
    "    test[feat].plot(kind='hist', bins=50, color='green')\n",
    "    plt.title(feat + ' / test')\n",
    "    plt.show()\n"
   ]
  },
  {
   "cell_type": "code",
   "execution_count": null,
   "id": "dedefcb7",
   "metadata": {
    "execution": {
     "iopub.execute_input": "2023-11-06T23:46:12.924171Z",
     "iopub.status.busy": "2023-11-06T23:46:12.923789Z",
     "iopub.status.idle": "2023-11-06T23:46:13.230689Z",
     "shell.execute_reply": "2023-11-06T23:46:13.229709Z"
    },
    "papermill": {
     "duration": 0.338021,
     "end_time": "2023-11-06T23:46:13.232446",
     "exception": false,
     "start_time": "2023-11-06T23:46:12.894425",
     "status": "completed"
    },
    "tags": []
   },
   "outputs": [],
   "source": [
    "# トレーニングデータの「smoking」の分布を可視化\n",
    "# Visualize distribution of \"smoking\" in train\n",
    "\n",
    "plt.figure(figsize=(12,3))\n",
    "train['smoking'].plot(kind='hist', bins=50, color='green')\n",
    "plt.title('smoking / train')\n",
    "plt.show()"
   ]
  },
  {
   "cell_type": "code",
   "execution_count": null,
   "id": "9e6a86f9",
   "metadata": {
    "execution": {
     "iopub.execute_input": "2023-11-06T23:46:13.291817Z",
     "iopub.status.busy": "2023-11-06T23:46:13.291493Z",
     "iopub.status.idle": "2023-11-06T23:46:22.542155Z",
     "shell.execute_reply": "2023-11-06T23:46:22.541265Z"
    },
    "papermill": {
     "duration": 9.284105,
     "end_time": "2023-11-06T23:46:22.544752",
     "exception": false,
     "start_time": "2023-11-06T23:46:13.260647",
     "status": "completed"
    },
    "tags": []
   },
   "outputs": [],
   "source": [
    "# トレーニングデータおよびテストデータの分布を可視化\n",
    "# Visualize the distributions of data in train and test\n",
    "\n",
    "for feat in feat_test:\n",
    "    plt.figure(figsize=(12,4))\n",
    "    ax1 = plt.subplot(1,2,1)\n",
    "    sns.boxplot(data=train, x='smoking', y=feat)\n",
    "    plt.title('smoking vs ' + feat + ' / train')\n",
    "    x1 = plt.subplot(1,2,2)\n",
    "    sns.boxplot(data=test, y=feat)\n",
    "    plt.title(feat + ' / test')\n",
    "    plt.show()\n"
   ]
  },
  {
   "cell_type": "code",
   "execution_count": null,
   "id": "621bf1a5",
   "metadata": {
    "execution": {
     "iopub.execute_input": "2023-11-06T23:46:22.623274Z",
     "iopub.status.busy": "2023-11-06T23:46:22.622388Z",
     "iopub.status.idle": "2023-11-06T23:46:22.690942Z",
     "shell.execute_reply": "2023-11-06T23:46:22.690296Z"
    },
    "papermill": {
     "duration": 0.109553,
     "end_time": "2023-11-06T23:46:22.692830",
     "exception": false,
     "start_time": "2023-11-06T23:46:22.583277",
     "status": "completed"
    },
    "tags": []
   },
   "outputs": [],
   "source": [
    "# 外れ値のデータを削除\n",
    "# Remove outliers\n",
    "\n",
    "train = train.drop(train[train['triglyceride'] > 700].index)\n",
    "train = train.drop(train[train['HDL'] > 350].index)\n",
    "#train = train.drop(train[train['LDL'] > 1500].index)\n",
    "\n",
    "train"
   ]
  },
  {
   "cell_type": "code",
   "execution_count": null,
   "id": "5676f2e2",
   "metadata": {
    "execution": {
     "iopub.execute_input": "2023-11-06T23:46:22.769390Z",
     "iopub.status.busy": "2023-11-06T23:46:22.769010Z",
     "iopub.status.idle": "2023-11-06T23:46:24.646984Z",
     "shell.execute_reply": "2023-11-06T23:46:24.646049Z"
    },
    "papermill": {
     "duration": 1.918095,
     "end_time": "2023-11-06T23:46:24.649037",
     "exception": false,
     "start_time": "2023-11-06T23:46:22.730942",
     "status": "completed"
    },
    "tags": []
   },
   "outputs": [],
   "source": [
    "# Heatmap(train)\n",
    "\n",
    "corr = train.drop(columns=['id']).corr().round(1)\n",
    "plt.figure(figsize=(20,10))\n",
    "sns.heatmap(corr, vmin=-1, vmax=1, center=0, square=False, annot=True, cmap='coolwarm')\n",
    "plt.show()\n"
   ]
  },
  {
   "cell_type": "code",
   "execution_count": null,
   "id": "8b010663",
   "metadata": {
    "execution": {
     "iopub.execute_input": "2023-11-06T23:46:24.732488Z",
     "iopub.status.busy": "2023-11-06T23:46:24.732135Z",
     "iopub.status.idle": "2023-11-06T23:46:26.656670Z",
     "shell.execute_reply": "2023-11-06T23:46:26.655792Z"
    },
    "papermill": {
     "duration": 1.96797,
     "end_time": "2023-11-06T23:46:26.658972",
     "exception": false,
     "start_time": "2023-11-06T23:46:24.691002",
     "status": "completed"
    },
    "tags": []
   },
   "outputs": [],
   "source": [
    "# Heatmap(test)\n",
    "\n",
    "corr = test.drop(columns=['id', 'smoking']).corr().round(1)\n",
    "plt.figure(figsize=(20,10))\n",
    "sns.heatmap(corr, vmin=-1, vmax=1, center=0, square=False, annot=True, cmap='coolwarm')\n",
    "plt.show()\n"
   ]
  },
  {
   "cell_type": "markdown",
   "id": "700a5266",
   "metadata": {
    "execution": {
     "iopub.execute_input": "2023-10-24T00:37:30.150488Z",
     "iopub.status.busy": "2023-10-24T00:37:30.150118Z",
     "iopub.status.idle": "2023-10-24T00:37:30.155218Z",
     "shell.execute_reply": "2023-10-24T00:37:30.153905Z",
     "shell.execute_reply.started": "2023-10-24T00:37:30.150458Z"
    },
    "papermill": {
     "duration": 0.042011,
     "end_time": "2023-11-06T23:46:26.744258",
     "exception": false,
     "start_time": "2023-11-06T23:46:26.702247",
     "status": "completed"
    },
    "tags": []
   },
   "source": [
    "# 5. モデルの作成\n",
    "## Modeling"
   ]
  },
  {
   "cell_type": "markdown",
   "id": "26184c0d",
   "metadata": {
    "papermill": {
     "duration": 0.041153,
     "end_time": "2023-11-06T23:46:26.827983",
     "exception": false,
     "start_time": "2023-11-06T23:46:26.786830",
     "status": "completed"
    },
    "tags": []
   },
   "source": [
    "### <font color='#bb0000'>処理を指定<br>Specify processing</font>"
   ]
  },
  {
   "cell_type": "code",
   "execution_count": null,
   "id": "2284185a",
   "metadata": {
    "execution": {
     "iopub.execute_input": "2023-11-06T23:46:26.913981Z",
     "iopub.status.busy": "2023-11-06T23:46:26.913395Z",
     "iopub.status.idle": "2023-11-06T23:46:26.918646Z",
     "shell.execute_reply": "2023-11-06T23:46:26.917573Z"
    },
    "papermill": {
     "duration": 0.051041,
     "end_time": "2023-11-06T23:46:26.920936",
     "exception": false,
     "start_time": "2023-11-06T23:46:26.869895",
     "status": "completed"
    },
    "tags": []
   },
   "outputs": [],
   "source": [
    "#----------------------------------------------------\n",
    "# 基本設定（Base setting）\n",
    "#----------------------------------------------------\n",
    "test_size = 0.2\n",
    "random_state = 45\n",
    "objective = 'binary'\n",
    "metric = 'binary_logloss' # binary_logloss, binary_error, auc\n",
    "\n",
    "#----------------------------------------------------\n",
    "# for optuna\n",
    "#----------------------------------------------------\n",
    "optuna_switch = 'off'\n",
    "opt_count = 5\n",
    "num_choose = 5\n",
    "\n",
    "if opt_count < num_choose:\n",
    "    num_choose = opt_count\n",
    "\n",
    "#----------------------------------------------------\n",
    "# for lightGBM\n",
    "#----------------------------------------------------\n",
    "learning_rate = 0.005 # 0.0001\n",
    "num_iterations = 300000 # 100\n",
    "max_depth = -1\n"
   ]
  },
  {
   "cell_type": "code",
   "execution_count": null,
   "id": "7b2b84ac",
   "metadata": {
    "execution": {
     "iopub.execute_input": "2023-11-06T23:46:27.006175Z",
     "iopub.status.busy": "2023-11-06T23:46:27.005472Z",
     "iopub.status.idle": "2023-11-06T23:46:27.011053Z",
     "shell.execute_reply": "2023-11-06T23:46:27.010479Z"
    },
    "papermill": {
     "duration": 0.04959,
     "end_time": "2023-11-06T23:46:27.012725",
     "exception": false,
     "start_time": "2023-11-06T23:46:26.963135",
     "status": "completed"
    },
    "tags": []
   },
   "outputs": [],
   "source": [
    "# 学習用データと検証用データを作成する関数\n",
    "\n",
    "def make_lgb_data(test_size, random_state, metric, X, value):\n",
    "    X_train, X_test, t_train, t_test = train_test_split(\n",
    "        X,\n",
    "        value,\n",
    "        test_size=test_size,\n",
    "        random_state=random_state\n",
    "    )\n",
    "\n",
    "    lgb_train = lgb.Dataset(\n",
    "        X_train,\n",
    "        t_train\n",
    "    )\n",
    "    \n",
    "    lgb_eval = lgb.Dataset(\n",
    "        X_test,\n",
    "        t_test,\n",
    "        reference=lgb_train\n",
    "    )\n",
    "    \n",
    "    dic_return = {\n",
    "        'X_train' : X_train,\n",
    "        'X_test' : X_test,\n",
    "        't_train' : t_train,\n",
    "        't_test' : t_test,\n",
    "        'lgb_train' : lgb_train,\n",
    "        'lgb_eval' : lgb_eval\n",
    "    }\n",
    "    \n",
    "    return dic_return"
   ]
  },
  {
   "cell_type": "code",
   "execution_count": null,
   "id": "0e5e910b",
   "metadata": {
    "execution": {
     "iopub.execute_input": "2023-11-06T23:46:27.097627Z",
     "iopub.status.busy": "2023-11-06T23:46:27.097025Z",
     "iopub.status.idle": "2023-11-06T23:46:27.103001Z",
     "shell.execute_reply": "2023-11-06T23:46:27.101924Z"
    },
    "papermill": {
     "duration": 0.050798,
     "end_time": "2023-11-06T23:46:27.105088",
     "exception": false,
     "start_time": "2023-11-06T23:46:27.054290",
     "status": "completed"
    },
    "tags": []
   },
   "outputs": [],
   "source": [
    "# optuna\n",
    "\n",
    "def tuneParams(test_size, random_state, objective, metric, X, value):\n",
    "    opt_params = {\n",
    "        'force_row_wise' : True,\n",
    "        'force_col_wise' : False,\n",
    "        'objective' : objective,\n",
    "        'metric' : metric\n",
    "    }\n",
    "\n",
    "    dic = make_lgb_data(test_size, random_state, metric, X, value)\n",
    "    lgb_train = dic['lgb_train']\n",
    "    lgb_eval = dic['lgb_eval']\n",
    "    \n",
    "    opt = lgbo.train(\n",
    "        opt_params,\n",
    "        lgb_train,\n",
    "        valid_sets = lgb_eval,\n",
    "        verbose_eval = False,\n",
    "        num_boost_round = 10,\n",
    "        early_stopping_rounds = 10\n",
    "    )\n",
    "    \n",
    "    return opt"
   ]
  },
  {
   "cell_type": "code",
   "execution_count": null,
   "id": "f438766a",
   "metadata": {
    "execution": {
     "iopub.execute_input": "2023-11-06T23:46:27.190979Z",
     "iopub.status.busy": "2023-11-06T23:46:27.190660Z",
     "iopub.status.idle": "2023-11-06T23:46:27.199220Z",
     "shell.execute_reply": "2023-11-06T23:46:27.197678Z"
    },
    "papermill": {
     "duration": 0.054627,
     "end_time": "2023-11-06T23:46:27.201656",
     "exception": false,
     "start_time": "2023-11-06T23:46:27.147029",
     "status": "completed"
    },
    "tags": []
   },
   "outputs": [],
   "source": [
    "# 学習（モデル作成）関数\n",
    "\n",
    "def make_model(X, value, test_size, random_state, objective, metric, learning_rate, num_iterations, max_depth, paramObj):\n",
    "    dic = make_lgb_data(test_size, random_state, metric, X, value)\n",
    "    lgb_train = dic['lgb_train']\n",
    "    lgb_eval = dic['lgb_eval']\n",
    "    X_test = dic['X_test'] # 検証用\n",
    "    t_test = dic['t_test'] # 　〃\n",
    "\n",
    "    params = {\n",
    "        'task': 'train',\n",
    "        'objective': objective,\n",
    "        'metric': metric,\n",
    "        'boosting_type': 'gbdt',\n",
    "        'learning_rate': learning_rate,\n",
    "        'num_iterations': num_iterations,\n",
    "        'max_depth': max_depth,\n",
    "        'force_row_wise' : paramObj['force_row_wise'],\n",
    "        'force_col_wise' : paramObj['force_col_wise'],\n",
    "        'feature_pre_filter': paramObj['feature_pre_filter'],\n",
    "        'lambda_l1': paramObj['lambda_l1'],\n",
    "        'lambda_l2': paramObj['lambda_l2'],\n",
    "        'num_leaves': paramObj['num_leaves'],\n",
    "        'feature_fraction': paramObj['feature_fraction'],\n",
    "        'bagging_fraction': paramObj['bagging_fraction'],\n",
    "        'bagging_freq': paramObj['bagging_freq'],\n",
    "        'min_child_samples': paramObj['min_child_samples'],\n",
    "        'verbosity': -1\n",
    "    }\n",
    "\n",
    "    evaluation_results = {}                       # 学習の経過を保存する\n",
    "    model = lgb.train(\n",
    "        params,\n",
    "        valid_names=['train', 'valid'],           # 学習経過で表示する名称\n",
    "        valid_sets=[lgb_train, lgb_eval],         # モデル検証のデータセット\n",
    "        #evals_result=evaluation_results,          # 学習の経過を保存\n",
    "        train_set=lgb_train,\n",
    "        #early_stopping_rounds=100,#100\n",
    "        #verbose_eval=100\n",
    "        callbacks=[lgb.early_stopping(100),\n",
    "                   lgb.record_evaluation(evaluation_results),\n",
    "                   lgb.log_evaluation(100) ]\n",
    "    )\n",
    "    \n",
    "    resultObj = {'paramObj' : paramObj,\n",
    "                 'evaluation_results' : evaluation_results,\n",
    "                 'model' : model,\n",
    "                 'X_test' : X_test, # 検証用\n",
    "                 't_test' : t_test} #   〃\n",
    "    return resultObj"
   ]
  },
  {
   "cell_type": "code",
   "execution_count": null,
   "id": "de848476",
   "metadata": {
    "execution": {
     "iopub.execute_input": "2023-11-06T23:46:27.290683Z",
     "iopub.status.busy": "2023-11-06T23:46:27.289891Z",
     "iopub.status.idle": "2023-11-06T23:46:27.300038Z",
     "shell.execute_reply": "2023-11-06T23:46:27.299302Z"
    },
    "papermill": {
     "duration": 0.057567,
     "end_time": "2023-11-06T23:46:27.301753",
     "exception": false,
     "start_time": "2023-11-06T23:46:27.244186",
     "status": "completed"
    },
    "tags": []
   },
   "outputs": [],
   "source": [
    "# trainを学習用データセットと検証用データセットに分割\n",
    "\n",
    "X = train[feat_test]\n",
    "value = train['smoking']"
   ]
  },
  {
   "cell_type": "code",
   "execution_count": null,
   "id": "55b64e94",
   "metadata": {
    "execution": {
     "iopub.execute_input": "2023-11-06T23:46:27.388530Z",
     "iopub.status.busy": "2023-11-06T23:46:27.387883Z",
     "iopub.status.idle": "2023-11-06T23:46:27.394191Z",
     "shell.execute_reply": "2023-11-06T23:46:27.393554Z"
    },
    "papermill": {
     "duration": 0.051116,
     "end_time": "2023-11-06T23:46:27.395951",
     "exception": false,
     "start_time": "2023-11-06T23:46:27.344835",
     "status": "completed"
    },
    "tags": []
   },
   "outputs": [],
   "source": [
    "# optuna\n",
    "\n",
    "if optuna_switch == 'on':\n",
    "    param_ary = []\n",
    "    for i in range(opt_count):\n",
    "        print('=' * 80)\n",
    "        print(f'【Round : {i + 1}】')\n",
    "        print('=' * 80)\n",
    "        opt = tuneParams(test_size, random_state, objective, metric, X, value)\n",
    "        score = opt.best_score['valid_0'][metric]\n",
    "        dic = {'score' : score, 'params' : opt.params}\n",
    "        param_ary.append(dic)\n",
    "    \n",
    "    if metric == 'auc':\n",
    "        # スコアの高い順にソート\n",
    "        param_ary = sorted(param_ary, key=lambda x: x['score'], reverse=True)\n",
    "    elif metric == 'binary_logloss':\n",
    "        # スコアの低い順にソート\n",
    "        param_ary = sorted(param_ary, key=lambda x: x['score'], reverse=False)\n",
    "    "
   ]
  },
  {
   "cell_type": "code",
   "execution_count": null,
   "id": "f811b629",
   "metadata": {
    "execution": {
     "iopub.execute_input": "2023-11-06T23:46:27.480980Z",
     "iopub.status.busy": "2023-11-06T23:46:27.480655Z",
     "iopub.status.idle": "2023-11-06T23:46:27.485783Z",
     "shell.execute_reply": "2023-11-06T23:46:27.484606Z"
    },
    "papermill": {
     "duration": 0.05017,
     "end_time": "2023-11-06T23:46:27.487753",
     "exception": false,
     "start_time": "2023-11-06T23:46:27.437583",
     "status": "completed"
    },
    "tags": []
   },
   "outputs": [],
   "source": [
    "if optuna_switch == 'on':\n",
    "    count = 0\n",
    "    for dic in param_ary:\n",
    "        score = dic['score']\n",
    "        params = dic['params']\n",
    "        count += 1\n",
    "        print('')\n",
    "        print('=' * 100)\n",
    "        print(f'#{count}----->')\n",
    "        print(f'opt_score : {score}')\n",
    "        print(f'params : {params}')\n",
    "        print('=' * 100)\n",
    "        print('')"
   ]
  },
  {
   "cell_type": "markdown",
   "id": "a86553be",
   "metadata": {
    "papermill": {
     "duration": 0.041672,
     "end_time": "2023-11-06T23:46:27.571270",
     "exception": false,
     "start_time": "2023-11-06T23:46:27.529598",
     "status": "completed"
    },
    "tags": []
   },
   "source": [
    "### MEMO\n",
    "===========================================================<br>\n",
    "##### そのまま処理\n",
    "opt score : 0.5040630631568116<br>\n",
    "params : {'force_row_wise': True, 'force_col_wise': False, 'objective': 'binary', 'metric': 'binary_logloss', 'feature_pre_filter': False, 'lambda_l1': 0.005237888351029057, 'lambda_l2': 0.3242533955071764, 'num_leaves': 253, 'feature_fraction': 1.0, 'bagging_fraction': 0.4442385446335148, 'bagging_freq': 1, 'min_child_samples': 20, 'num_iterations': 10, 'early_stopping_round': None}<br>\n",
    "[2802]\ttrain's binary_logloss: 0.295543\tvalid's binary_logloss: 0.436024<br>\n",
    "auc : 0.9470267965782442<br>\n",
    "Public score : 0.87064(ver1)<br>\n",
    "<br>\n",
    "opt score : 0.5049468249268089<br>\n",
    "params : {'force_row_wise': True, 'force_col_wise': False, 'objective': 'binary', 'metric': 'binary_logloss', 'feature_pre_filter': False, 'lambda_l1': 0.0, 'lambda_l2': 0.0, 'num_leaves': 253, 'feature_fraction': 1.0, 'bagging_fraction': 0.929906079778351, 'bagging_freq': 1, 'min_child_samples': 100, 'num_iterations': 10, 'early_stopping_round': None}<br>\n",
    "[2984]\ttrain's binary_logloss: 0.298777\tvalid's binary_logloss: 0.435815<br>\n",
    "auc : 0.9451385135464268<br>\n",
    "Public score : 0.87108(ver2)<br>\n",
    "<br>\n",
    "opt score : 0.5049887487864972<br>\n",
    "params : {'force_row_wise': True, 'force_col_wise': False, 'objective': 'binary', 'metric': 'binary_logloss', 'feature_pre_filter': False, 'lambda_l1': 0.0, 'lambda_l2': 0.0, 'num_leaves': 256, 'feature_fraction': 1.0, 'bagging_fraction': 0.7879076169748924, 'bagging_freq': 3, 'min_child_samples': 20, 'num_iterations': 10, 'early_stopping_round': None}<br>\n",
    "[2475]\ttrain's binary_logloss: 0.303928\tvalid's binary_logloss: 0.437543<br>\n",
    "auc : 0.9435765314271563<br>\n",
    "Public score : 0.87015(ver3)<br>\n",
    "<br>\n",
    "opt score : 0.504366240260844<br>\n",
    "params : {'force_row_wise': True, 'force_col_wise': False, 'objective': 'binary', 'metric': 'binary_logloss', 'feature_pre_filter': False, 'lambda_l1': 0.0, 'lambda_l2': 0.0, 'num_leaves': 253, 'feature_fraction': 1.0, 'bagging_fraction': 0.7015814956634723, 'bagging_freq': 1, 'min_child_samples': 20, 'num_iterations': 10, 'early_stopping_round': None}<br>\n",
    "[3219]\ttrain's binary_logloss: 0.275103\tvalid's binary_logloss: 0.436324<br>\n",
    "auc : 0.9558782470416705<br>\n",
    "Public score : 0.87082(ver4)<br>\n",
    "<br>\n",
    "opt score : 0.5045660034598182<br>\n",
    "params : {'force_row_wise': True, 'force_col_wise': False, 'objective': 'binary', 'metric': 'binary_logloss', 'feature_pre_filter': False, 'lambda_l1': 0.0, 'lambda_l2': 0.0, 'num_leaves': 256, 'feature_fraction': 0.9520000000000001, 'bagging_fraction': 0.8000982346621339, 'bagging_freq': 2, 'min_child_samples': 50, 'num_iterations': 10, 'early_stopping_round': None}<br>\n",
    "[2836]\ttrain's binary_logloss: 0.296497\tvalid's binary_logloss: 0.435991<br>\n",
    "auc : 0.9467362233470888<br>\n",
    "Public score : 0.87113(ver5)<br>\n",
    "<br>\n",
    "===========================================================<br>\n",
    "##### 0/1および1/2で分類されているものをget_dummiesで分割\n",
    "opt score : 0.5041088576389983<br>\n",
    "params : {'force_row_wise': True, 'force_col_wise': False, 'objective': 'binary', 'metric': 'binary_logloss', 'feature_pre_filter': False, 'lambda_l1': 0.08349324800598144, 'lambda_l2': 0.0002547437878290678, 'num_leaves': 253, 'feature_fraction': 1.0, 'bagging_fraction': 0.6010621550744889, 'bagging_freq': 1, 'min_child_samples': 50, 'num_iterations': 10, 'early_stopping_round': None}<br>\n",
    "[2399]\ttrain's binary_logloss: 0.314423\tvalid's binary_logloss: 0.436021<br>\n",
    "auc : 0.9384999714460561<br>\n",
    "Public score : 0.87089(ver6)<br>\n",
    "<br>\n",
    "opt score : 0.504113204524721<br>\n",
    "params : {'force_row_wise': True, 'force_col_wise': False, 'objective': 'binary', 'metric': 'binary_logloss', 'feature_pre_filter': False, 'lambda_l1': 0.06895642700812259, 'lambda_l2': 0.20930335338134826, 'num_leaves': 253, 'feature_fraction': 1.0, 'bagging_fraction': 0.40138468521841814, 'bagging_freq': 1, 'min_child_samples': 50, 'num_iterations': 10, 'early_stopping_round': None}<br>\n",
    "[2458]\ttrain's binary_logloss: 0.316906\tvalid's binary_logloss: 0.435809<br>\n",
    "auc : 0.936922167044993<br>\n",
    "Public score : 0.87084(ver7)<br>\n",
    "<br>\n",
    "opt score : 0.504154931439968<br>\n",
    "params : {'force_row_wise': True, 'force_col_wise': False, 'objective': 'binary', 'metric': 'binary_logloss', 'feature_pre_filter': False, 'lambda_l1': 0.0, 'lambda_l2': 0.0, 'num_leaves': 256, 'feature_fraction': 1.0, 'bagging_fraction': 0.40041264987744657, 'bagging_freq': 1, 'min_child_samples': 50, 'num_iterations': 10, 'early_stopping_round': None}<br>\n",
    "[2559]\ttrain's binary_logloss: 0.310193\tvalid's binary_logloss: 0.436043<br>\n",
    "auc : 0.9398432564750474<br>\n",
    "Public score : 0.87082(ver8)<br>\n",
    "<br>\n",
    "opt score : 0.5045048354161731<br>\n",
    "params : {'force_row_wise': True, 'force_col_wise': False, 'objective': 'binary', 'metric': 'binary_logloss', 'feature_pre_filter': False, 'lambda_l1': 0.013074788480004389, 'lambda_l2': 1.4633019310098181e-06, 'num_leaves': 254, 'feature_fraction': 1.0, 'bagging_fraction': 0.8719391793357675, 'bagging_freq': 1, 'min_child_samples': 10, 'num_iterations': 10, 'early_stopping_round': None}<br>\n",
    "[3134]\ttrain's binary_logloss: 0.276515\tvalid's binary_logloss: 0.436928<br>\n",
    "auc : 0.9556551378703616<br>\n",
    "Public score : 0.86985(ver9)<br>\n",
    "<br>\n",
    "opt score : 0.5048692211610079<br>\n",
    "params : {'force_row_wise': True, 'force_col_wise': False, 'objective': 'binary', 'metric': 'binary_logloss', 'feature_pre_filter': False, 'lambda_l1': 0.0, 'lambda_l2': 0.0, 'num_leaves': 255, 'feature_fraction': 1.0, 'bagging_fraction': 0.5987872588749034, 'bagging_freq': 3, 'min_child_samples': 20, 'num_iterations': 10, 'early_stopping_round': None}<br>\n",
    "[2386]\ttrain's binary_logloss: 0.308038\tvalid's binary_logloss: 0.436756<br>\n",
    "auc : 0.9415711466212641<br>\n",
    "Public score : 0.87005(ver10)<br>\n",
    "<br>\n",
    "===========================================================<br>\n",
    "##### originalデータを追加\n",
    "opt score : 0.5058638546348095<br>\n",
    "params : {'force_row_wise': True, 'force_col_wise': False, 'objective': 'binary', 'metric': 'binary_logloss', 'feature_pre_filter': False, 'lambda_l1': 0.06531133091916129, 'lambda_l2': 0.0016935724215372185, 'num_leaves': 254, 'feature_fraction': 1.0, 'bagging_fraction': 0.40054229472860436, 'bagging_freq': 1, 'min_child_samples': 50, 'num_iterations': 10, 'early_stopping_round': None}<br>\n",
    "[3733]\ttrain's binary_logloss: 0.29066\tvalid's binary_logloss: 0.434586<br>\n",
    "auc : 0.9485050992304989<br>\n",
    "Public score : 0.87402(ver11)<br>\n",
    "<br>\n",
    "opt score : 0.5058902378672291<br>\n",
    "params : {'force_row_wise': True, 'force_col_wise': False, 'objective': 'binary', 'metric': 'binary_logloss', 'feature_pre_filter': False, 'lambda_l1': 0.0, 'lambda_l2': 0.0, 'num_leaves': 254, 'feature_fraction': 0.9520000000000001, 'bagging_fraction': 0.40186575137769553, 'bagging_freq': 1, 'min_child_samples': 50, 'num_iterations': 10, 'early_stopping_round': None}<br>\n",
    "[3771]\ttrain's binary_logloss: 0.290268\tvalid's binary_logloss: 0.434193<br>\n",
    "auc : 0.9487470881904436<br>\n",
    "Public score : 0.87428(ver12)<br>\n",
    "<br>\n",
    "opt score : 0.5065616831631313<br>\n",
    "params : {'force_row_wise': True, 'force_col_wise': False, 'objective': 'binary', 'metric': 'binary_logloss', 'feature_pre_filter': False, 'lambda_l1': 0.0, 'lambda_l2': 0.0, 'num_leaves': 253, 'feature_fraction': 0.9520000000000001, 'bagging_fraction': 0.8502785052939205, 'bagging_freq': 2, 'min_child_samples': 100, 'num_iterations': 10, 'early_stopping_round': None}<br>\n",
    "<font color='#ff0000'>[4212]\ttrain's binary_logloss: 0.282832\tvalid's binary_logloss: 0.43429<br>\n",
    "auc : 0.95221340654535<br>\n",
    "Public score : 0.87464(ver13)</font><br>\n",
    "<br>\n",
    "opt score : 0.5065674065678668<br>\n",
    "params : {'force_row_wise': True, 'force_col_wise': False, 'objective': 'binary', 'metric': 'binary_logloss', 'feature_pre_filter': False, 'lambda_l1': 0.0, 'lambda_l2': 0.0, 'num_leaves': 255, 'feature_fraction': 0.9520000000000001, 'bagging_fraction': 0.6039958569612263, 'bagging_freq': 2, 'min_child_samples': 20, 'num_iterations': 10, 'early_stopping_round': None}<br>\n",
    "[3996]\ttrain's binary_logloss: 0.273236\tvalid's binary_logloss: 0.435504<br>\n",
    "auc : 0.9566086490435851<br>\n",
    "Public score : 0.8737(ver14)<br>\n",
    "<br>\n",
    "opt score : 0.5068112432954752<br>\n",
    "params : {'force_row_wise': True, 'force_col_wise': False, 'objective': 'binary', 'metric': 'binary_logloss', 'feature_pre_filter': False, 'lambda_l1': 1.0787883028785273e-08, 'lambda_l2': 0.08889804258123069, 'num_leaves': 253, 'feature_fraction': 1.0, 'bagging_fraction': 0.9470614021461423, 'bagging_freq': 1, 'min_child_samples': 25, 'num_iterations': 10, 'early_stopping_round': None}<br>\n",
    "<font color='#0000ff'>[4634]\ttrain's binary_logloss: 0.261319\tvalid's binary_logloss: 0.43641<br>\n",
    "auc : 0.961287814554566<br>\n",
    "Public score : 0.87325(ver15)</font><br>\n",
    "<br>\n",
    "===========================================================<br>\n",
    "##### ver13のパラメーターセットを使いrandom_stateを変更\n",
    "random_state=1<br>\n",
    "[3452]\ttrain's binary_logloss: 0.302086\tvalid's binary_logloss: 0.442282<br>\n",
    "auc : 0.94293273644475<br>\n",
    "Public score : 0.87395(ver16)<br>\n",
    "<br>\n",
    "random_state=2<br>\n",
    "[4040]\ttrain's binary_logloss: 0.286478\tvalid's binary_logloss: 0.438882<br>\n",
    "auc : 0.9501506193765014<br>\n",
    "Public score : 0.8742(ver17)<br>\n",
    "<br>\n",
    "random_state=3<br>\n",
    "[3528]\ttrain's binary_logloss: 0.299667\tvalid's binary_logloss: 0.444664<br>\n",
    "auc : 0.943688633413089<br>\n",
    "Public score : 0.878401(ver18)<br>\n",
    "<br>\n",
    "random_state=4<br>\n",
    "[4175]\ttrain's binary_logloss: 0.282961\tvalid's binary_logloss: 0.439568<br>\n",
    "auc : 0.9515577190407067<br>\n",
    "Public score : 0.87411(ver19)<br>\n",
    "<br>\n",
    "random_state=5<br>\n",
    "[3858]\ttrain's binary_logloss: 0.292413\tvalid's binary_logloss: 0.436085<br>\n",
    "auc : 0.9480502022756125<br>\n",
    "Public score : 0.87414(ver20)<br>\n",
    "<br>\n",
    "random_state=6<br>\n",
    "[3766]\ttrain's binary_logloss: 0.293456\tvalid's binary_logloss: 0.441555<br>\n",
    "auc : 0.9467988084161657<br>\n",
    "Public score : 0.87384(ver21)<br>\n",
    "<br>\n",
    "random_state=7<br>\n",
    "[3387]\ttrain's binary_logloss: 0.30503\tvalid's binary_logloss: 0.437331<br>\n",
    "auc : 0.942486051760207<br>\n",
    "Public score : 0.87446(ver22)<br>\n",
    "<br>\n",
    "random_state=8<br>\n",
    "[3668]\ttrain's binary_logloss: 0.295916\tvalid's binary_logloss: 0.441873<br>\n",
    "auc : 0.9457732574999436<br>\n",
    "Public score : 0.87458(ver23)<br>\n",
    "<br>\n",
    "random_state=9<br>\n",
    "[4328]\ttrain's binary_logloss: 0.279519\tvalid's binary_logloss: 0.435955<br>\n",
    "auc : 0.9531459971129521<br>\n",
    "Public score : 0.87458(ver24)<br>\n",
    "<br>\n",
    "random_state=10<br>\n",
    "[3653]\ttrain's binary_logloss: 0.297825\tvalid's binary_logloss: 0.436764<br>\n",
    "auc : 0.9457190688333114<br>\n",
    "Public score : 0.874(ver25)<br>\n",
    "<br>\n",
    "random_state=11<br>\n",
    "[4175]\ttrain's binary_logloss: 0.283224\tvalid's binary_logloss: 0.436392<br>\n",
    "auc : 0.9516833922936344<br>\n",
    "Public score : 0.87418(ver26)<br>\n",
    "<br>\n",
    "random_state=12<br>\n",
    "[4362]\ttrain's binary_logloss: 0.277996\tvalid's binary_logloss: 0.439815<br>\n",
    "auc : 0.9532379299637425<br>\n",
    "<font color='#ff0000'>Public score : 0.87513(ver27)</font><br>\n",
    "<br>\n",
    "random_state=13<br>\n",
    "[4088]\ttrain's binary_logloss: 0.285521\tvalid's binary_logloss: 0.435692<br>\n",
    "auc : 0.9510060343463467<br>\n",
    "Public score : 0.87504(ver28)<br>\n",
    "<br>\n",
    "random_state=14<br>\n",
    "[3550]\ttrain's binary_logloss: 0.299278\tvalid's binary_logloss: 0.442666<br>\n",
    "auc : 0.944096628716832<br>\n",
    "Public score : 0.87467(ver29)<br>\n",
    "<br>\n",
    "random_state=15<br>\n",
    "[3889]\ttrain's binary_logloss: 0.291653\tvalid's binary_logloss: 0.43343<br>\n",
    "auc : 0.9488926980522882<br>\n",
    "Public score : 0.87399(ver30)<br>\n",
    "<br>\n",
    "random_state=16<br>\n",
    "[4352]\ttrain's binary_logloss: 0.279429\tvalid's binary_logloss: 0.433857<br>\n",
    "auc : 0.9536355129001919<br>\n",
    "Public score : 0.87422(ver32)<br>\n",
    "<br>\n",
    "random_state=17<br>\n",
    "[3508]\ttrain's binary_logloss: 0.300507\tvalid's binary_logloss: 0.441769<br>\n",
    "auc : 0.9435071462929625<br>\n",
    "Public score : 0.8736(ver33)<br>\n",
    "<br>\n",
    "random_state=18<br>\n",
    "[3720]\ttrain's binary_logloss: 0.294955\tvalid's binary_logloss: 0.441252<br>\n",
    "auc : 0.946106826307993<br>\n",
    "Public score : 0.87396(ver34)<br>\n",
    "<br>\n",
    "random_state=19<br>\n",
    "[4024]\ttrain's binary_logloss: 0.286817\tvalid's binary_logloss: 0.439192<br>\n",
    "auc : 0.9500282031352443<br>\n",
    "Public score : 0.87454(ver35)<br>\n",
    "<br>\n",
    "random_state=20<br>\n",
    "[3821]\ttrain's binary_logloss: 0.29161\tvalid's binary_logloss: 0.441436<br>\n",
    "auc : 0.9475424494485658<br>\n",
    "Public score : 0.87419(ver36)<br>\n",
    "<br>\n",
    "random_state=21<br>\n",
    "[3480]\ttrain's binary_logloss: 0.302125\tvalid's binary_logloss: 0.439475<br>\n",
    "auc : 0.9435922954104948<br>\n",
    "Public score : 0.87375(ver37)<br>\n",
    "<br>\n",
    "random_state=22<br>\n",
    "[4338]\ttrain's binary_logloss: 0.279182\tvalid's binary_logloss: 0.435957<br>\n",
    "auc : 0.9536687777843542<br>\n",
    "Public score : 0.87431(ver38)<br>\n",
    "<br>\n",
    "random_state=23<br>\n",
    "[3280]\ttrain's binary_logloss: 0.307257\tvalid's binary_logloss: 0.442347<br>\n",
    "auc : 0.9406026086855058<br>\n",
    "Public score : 0.87418(ver39)<br>\n",
    "<br>\n",
    "random_state=24<br>\n",
    "[3811]\ttrain's binary_logloss: 0.292786\tvalid's binary_logloss: 0.438483<br>\n",
    "auc : 0.9476582777386412<br>\n",
    "Public score : 0.87403(ver40)<br>\n",
    "<br>\n",
    "random_state=25<br>\n",
    "[3767]\ttrain's binary_logloss: 0.293101\tvalid's binary_logloss: 0.443812<br>\n",
    "auc : 0.946475218764873<br>\n",
    "Public score : 0.87414(ver41)<br>\n",
    "<br>\n",
    "random_state=26<br>\n",
    "[4287]\ttrain's binary_logloss: 0.280351\tvalid's binary_logloss: 0.436617<br>\n",
    "auc : 0.9527397587798169<br>\n",
    "Public score : 0.87433(ver42)<br>\n",
    "<br>\n",
    "random_state=27<br>\n",
    "[4100]\ttrain's binary_logloss: 0.285207\tvalid's binary_logloss: 0.437525<br>\n",
    "auc : 0.9510133712713913<br>\n",
    "Public score : 0.87477(ver43)<br>\n",
    "<br>\n",
    "random_state=28<br>\n",
    "[3908]\ttrain's binary_logloss: 0.289786\tvalid's binary_logloss: 0.439277<br>\n",
    "auc : 0.9484440006795241<br>\n",
    "Public score : 0.87439(ver44)<br>\n",
    "<br>\n",
    "random_state=29<br>\n",
    "[3240]\ttrain's binary_logloss: 0.309026\tvalid's binary_logloss: 0.440846<br>\n",
    "auc : 0.9399203016493798<br>\n",
    "Public score : 0.87412(ver45)<br>\n",
    "<br>\n",
    "random_state=30<br>\n",
    "[3745]\ttrain's binary_logloss: 0.295392\tvalid's binary_logloss: 0.436838<br>\n",
    "auc : 0.946872102637015<br>\n",
    "Public score : 0.87394(ver46)<br>\n",
    "<br>\n",
    "random_state=31<br>\n",
    "[4059]\ttrain's binary_logloss: 0.286286\tvalid's binary_logloss: 0.436752<br>\n",
    "auc : 0.9502921308154677<br>\n",
    "Public score : 0.87424(ver47)<br>\n",
    "<br>\n",
    "random_state=32<br>\n",
    "[3055]\ttrain's binary_logloss: 0.314233\tvalid's binary_logloss: 0.442497<br>\n",
    "auc : 0.937290434175597<br>\n",
    "Public score : 0.87357(ver48)<br>\n",
    "<br>\n",
    "random_state=33<br>\n",
    "[3515]\ttrain's binary_logloss: 0.302082\tvalid's binary_logloss: 0.43448<br>\n",
    "auc : 0.9442086270820144<br>\n",
    "Public score : 0.87387(ver49)<br>\n",
    "<br>\n",
    "random_state=34<br>\n",
    "[3782]\ttrain's binary_logloss: 0.293592\tvalid's binary_logloss: 0.437717<br>\n",
    "auc : 0.9475141356364027<br>\n",
    "Public score : 0.87512(ver50)<br>\n",
    "<br>\n",
    "random_state=35<br>\n",
    "[3940]\ttrain's binary_logloss: 0.288501\tvalid's binary_logloss: 0.443715<br>\n",
    "auc : 0.9485836833133784<br>\n",
    "Public score : 0.87459(ver51)<br>\n",
    "<br>\n",
    "random_state=36<br>\n",
    "3826]\ttrain's binary_logloss: 0.292955\tvalid's binary_logloss: 0.43624<br>\n",
    "auc : 0.9481317944834375<br>\n",
    "Public score : 0.8743(ver52)<br>\n",
    "<br>\n",
    "random_state=37<br>\n",
    "[3361]\ttrain's binary_logloss: 0.306133\tvalid's binary_logloss: 0.437755<br>\n",
    "auc : 0.9417649440659054<br>\n",
    "Public score : 0.8746(ver53)<br>\n",
    "<br>\n",
    "random_state=38<br>\n",
    "[4032]\ttrain's binary_logloss: 0.286989\tvalid's binary_logloss: 0.437809<br>\n",
    "auc : 0.9499984386406961<br>\n",
    "Public score : 0.87441(ver54)<br>\n",
    "<br>\n",
    "random_state=39<br>\n",
    "[3673]\ttrain's binary_logloss: 0.297258\tvalid's binary_logloss: 0.436774<br>\n",
    "auc : 0.9459823533082667<br>\n",
    "Public score : 0.87412(ver55)<br>\n",
    "<br>\n",
    "random_state=40<br>\n",
    "[3772]\ttrain's binary_logloss: 0.294246\tvalid's binary_logloss: 0.436595<br>\n",
    "auc : 0.9471880757375403<br>\n",
    "Public score : 0.87397(ver56)<br>\n",
    "<br>\n"
   ]
  },
  {
   "cell_type": "code",
   "execution_count": null,
   "id": "474ec17c",
   "metadata": {
    "execution": {
     "iopub.execute_input": "2023-11-06T23:46:27.657209Z",
     "iopub.status.busy": "2023-11-06T23:46:27.656868Z",
     "iopub.status.idle": "2023-11-06T23:52:53.895938Z",
     "shell.execute_reply": "2023-11-06T23:52:53.894893Z"
    },
    "papermill": {
     "duration": 386.28524,
     "end_time": "2023-11-06T23:52:53.898389",
     "exception": false,
     "start_time": "2023-11-06T23:46:27.613149",
     "status": "completed"
    },
    "tags": []
   },
   "outputs": [],
   "source": [
    "if optuna_switch == 'on':\n",
    "    param_ary = param_ary[0 : num_choose]\n",
    "else:\n",
    "    # optunaを使わないときはここにパラメーターをセット\n",
    "    # In case of unusing optuna, set params here\n",
    "    param_ary = [\n",
    "        {'force_row_wise': True, 'force_col_wise': False, 'objective': 'binary', 'metric': 'binary_logloss', 'feature_pre_filter': False, 'lambda_l1': 0.0, 'lambda_l2': 0.0, 'num_leaves': 253, 'feature_fraction': 0.9520000000000001, 'bagging_fraction': 0.8502785052939205, 'bagging_freq': 2, 'min_child_samples': 100, 'num_iterations': 10, 'early_stopping_round': None}\n",
    "    ]\n",
    "\n",
    "result_ary = []\n",
    "for i in range(len(param_ary)):\n",
    "    print()\n",
    "    print('='*80)\n",
    "    print(f'【Round : {i + 1}】')\n",
    "    \n",
    "    if optuna_switch == 'on':\n",
    "        score = param_ary[i]['score']\n",
    "        print(f'opt score : {score}')\n",
    "        paramObj = param_ary[i]['params']\n",
    "    else:\n",
    "        paramObj = param_ary[i]\n",
    "        \n",
    "    print(f'params : {paramObj}')\n",
    "    print('-'*80)\n",
    "    resultObj = make_model(X, value, test_size, random_state, objective, metric, learning_rate, num_iterations, max_depth, paramObj)\n",
    "    result_ary.append(resultObj)"
   ]
  },
  {
   "cell_type": "markdown",
   "id": "18c5ebdd",
   "metadata": {
    "papermill": {
     "duration": 0.044409,
     "end_time": "2023-11-06T23:52:53.987711",
     "exception": false,
     "start_time": "2023-11-06T23:52:53.943302",
     "status": "completed"
    },
    "tags": []
   },
   "source": [
    "# 6. 学習結果\n",
    "## Learning result"
   ]
  },
  {
   "cell_type": "code",
   "execution_count": null,
   "id": "945e7d7a",
   "metadata": {
    "execution": {
     "iopub.execute_input": "2023-11-06T23:52:54.076402Z",
     "iopub.status.busy": "2023-11-06T23:52:54.075973Z",
     "iopub.status.idle": "2023-11-06T23:52:54.397290Z",
     "shell.execute_reply": "2023-11-06T23:52:54.396394Z"
    },
    "papermill": {
     "duration": 0.369134,
     "end_time": "2023-11-06T23:52:54.399467",
     "exception": false,
     "start_time": "2023-11-06T23:52:54.030333",
     "status": "completed"
    },
    "tags": []
   },
   "outputs": [],
   "source": [
    "# 学習過程を可視化\n",
    "\n",
    "count = 0\n",
    "for resultObj in result_ary:\n",
    "    count += 1\n",
    "    print()\n",
    "    print(f'【round {count}】')\n",
    "\n",
    "    evaluation_results = resultObj['evaluation_results']\n",
    "\n",
    "    plt.plot(evaluation_results['train'][metric], label='train')\n",
    "    plt.plot(evaluation_results['valid'][metric], label='valid')\n",
    "    plt.ylabel(metric)\n",
    "    plt.xlabel('Boosting round')\n",
    "    plt.title('Training performance')\n",
    "    plt.legend()\n",
    "    plt.show()"
   ]
  },
  {
   "cell_type": "code",
   "execution_count": null,
   "id": "3a8ada1d",
   "metadata": {
    "execution": {
     "iopub.execute_input": "2023-11-06T23:52:54.491911Z",
     "iopub.status.busy": "2023-11-06T23:52:54.491440Z",
     "iopub.status.idle": "2023-11-06T23:52:55.022755Z",
     "shell.execute_reply": "2023-11-06T23:52:55.021671Z"
    },
    "papermill": {
     "duration": 0.579392,
     "end_time": "2023-11-06T23:52:55.024704",
     "exception": false,
     "start_time": "2023-11-06T23:52:54.445312",
     "status": "completed"
    },
    "tags": []
   },
   "outputs": [],
   "source": [
    "# First round's feature importance\n",
    "\n",
    "model_0 = result_ary[0]['model']\n",
    "fig, ax = plt.subplots(figsize=(10, 10))\n",
    "lgb.plot_importance(model_0, ax=ax)"
   ]
  },
  {
   "cell_type": "code",
   "execution_count": null,
   "id": "905f75bd",
   "metadata": {
    "execution": {
     "iopub.execute_input": "2023-11-06T23:52:55.119495Z",
     "iopub.status.busy": "2023-11-06T23:52:55.119180Z",
     "iopub.status.idle": "2023-11-06T23:52:55.125365Z",
     "shell.execute_reply": "2023-11-06T23:52:55.124079Z"
    },
    "papermill": {
     "duration": 0.055692,
     "end_time": "2023-11-06T23:52:55.127839",
     "exception": false,
     "start_time": "2023-11-06T23:52:55.072147",
     "status": "completed"
    },
    "tags": []
   },
   "outputs": [],
   "source": [
    "# ロック曲線\n",
    "# Roc Curve\n",
    "\n",
    "def show_roc_curve(X, model):\n",
    "    for_verifi = model.predict(X)\n",
    "    true = train['smoking']\n",
    "    fpr, tpr, thresholds = roc_curve(true, for_verifi)\n",
    "    plt.plot(fpr, tpr, marker='.')\n",
    "    plt.xlabel('FPR: False positive rate')\n",
    "    plt.ylabel('TPR: True positive rate')\n",
    "    plt.title('ROC Curve')\n",
    "    plt.show()\n",
    "    \n",
    "    return {'for_verifi' : for_verifi,\n",
    "            'fpr' : fpr,\n",
    "            'tpr' : tpr,\n",
    "            'thresholds' : thresholds}"
   ]
  },
  {
   "cell_type": "code",
   "execution_count": null,
   "id": "fe5e7660",
   "metadata": {
    "execution": {
     "iopub.execute_input": "2023-11-06T23:52:55.222143Z",
     "iopub.status.busy": "2023-11-06T23:52:55.221762Z",
     "iopub.status.idle": "2023-11-06T23:52:55.233713Z",
     "shell.execute_reply": "2023-11-06T23:52:55.232168Z"
    },
    "papermill": {
     "duration": 0.062722,
     "end_time": "2023-11-06T23:52:55.236804",
     "exception": false,
     "start_time": "2023-11-06T23:52:55.174082",
     "status": "completed"
    },
    "tags": []
   },
   "outputs": [],
   "source": [
    "# 混同行列\n",
    "# Confusion matrix\n",
    "\n",
    "def show_cm(for_verifi):\n",
    "    cm = confusion_matrix(train['smoking'], np.round(for_verifi))\n",
    "    sns.heatmap(cm, annot=True, cmap='Blues', fmt=',')\n",
    "    plt.xlabel('Prediction')\n",
    "    plt.ylabel('Result')\n",
    "    plt.show()\n"
   ]
  },
  {
   "cell_type": "code",
   "execution_count": null,
   "id": "4fedd95d",
   "metadata": {
    "execution": {
     "iopub.execute_input": "2023-11-06T23:52:55.337555Z",
     "iopub.status.busy": "2023-11-06T23:52:55.337249Z",
     "iopub.status.idle": "2023-11-06T23:55:10.466732Z",
     "shell.execute_reply": "2023-11-06T23:55:10.465271Z"
    },
    "papermill": {
     "duration": 135.17881,
     "end_time": "2023-11-06T23:55:10.469398",
     "exception": false,
     "start_time": "2023-11-06T23:52:55.290588",
     "status": "completed"
    },
    "tags": []
   },
   "outputs": [],
   "source": [
    "%%time\n",
    "\n",
    "for i in range(len(result_ary)):\n",
    "    print('-'*80)\n",
    "    print(f'Round {i+1} / {len(result_ary)}')\n",
    "    model = result_ary[i]['model']\n",
    "    val_score = model.best_score['valid'][metric]\n",
    "    print(f'Valid Score : {val_score}')\n",
    "    print('-'*80)\n",
    "\n",
    "    # Rock curve\n",
    "    obj = show_roc_curve(X, model)\n",
    "\n",
    "    # Auc\n",
    "    fpr = obj['fpr']\n",
    "    tpr = obj['tpr']\n",
    "    acc = auc(fpr, tpr)\n",
    "    result_ary[i]['auc'] = acc # result_aryにaucを保存\n",
    "    print(f'auc : {acc}')\n",
    "    print()\n",
    "\n",
    "    # Confusion Matrix\n",
    "    print('Confusion Matrix')\n",
    "    for_verify = obj['for_verifi']\n",
    "    show_cm(for_verify)"
   ]
  },
  {
   "cell_type": "markdown",
   "id": "3f69d937",
   "metadata": {
    "papermill": {
     "duration": 0.048295,
     "end_time": "2023-11-06T23:55:10.568913",
     "exception": false,
     "start_time": "2023-11-06T23:55:10.520618",
     "status": "completed"
    },
    "tags": []
   },
   "source": [
    "# 7. 予測\n",
    "## Prediction"
   ]
  },
  {
   "cell_type": "code",
   "execution_count": null,
   "id": "d378156b",
   "metadata": {
    "execution": {
     "iopub.execute_input": "2023-11-06T23:55:10.671703Z",
     "iopub.status.busy": "2023-11-06T23:55:10.671371Z",
     "iopub.status.idle": "2023-11-06T23:55:10.678387Z",
     "shell.execute_reply": "2023-11-06T23:55:10.677021Z"
    },
    "papermill": {
     "duration": 0.060105,
     "end_time": "2023-11-06T23:55:10.680595",
     "exception": false,
     "start_time": "2023-11-06T23:55:10.620490",
     "status": "completed"
    },
    "tags": []
   },
   "outputs": [],
   "source": [
    "# 学習したモデルで予測\n",
    "# Predict with learned model\n",
    "\n",
    "def get_pred(test, feat_test):\n",
    "    fold = []\n",
    "    print()\n",
    "    for i in range(len(result_ary)):\n",
    "        paramObj = result_ary[i]['paramObj']\n",
    "        model = result_ary[i]['model']\n",
    "        auc = result_ary[i]['auc']\n",
    "        if auc > 0.5:\n",
    "            print(f'params : {paramObj}')\n",
    "            print(f'auc : {auc}')\n",
    "            print()\n",
    "            result = model.predict(test[feat_test])\n",
    "            fold.append(result)\n",
    "    print('-'*80)\n",
    "    print(f'Result : {fold}')\n",
    "    print('-'*80)\n",
    "    return fold\n"
   ]
  },
  {
   "cell_type": "code",
   "execution_count": null,
   "id": "c4636cf4",
   "metadata": {
    "execution": {
     "iopub.execute_input": "2023-11-06T23:55:10.780175Z",
     "iopub.status.busy": "2023-11-06T23:55:10.779807Z",
     "iopub.status.idle": "2023-11-06T23:56:27.344094Z",
     "shell.execute_reply": "2023-11-06T23:56:27.342678Z"
    },
    "papermill": {
     "duration": 76.617913,
     "end_time": "2023-11-06T23:56:27.346650",
     "exception": false,
     "start_time": "2023-11-06T23:55:10.728737",
     "status": "completed"
    },
    "tags": []
   },
   "outputs": [],
   "source": [
    "fold = get_pred(test, feat_test)\n",
    "# 複数のモデルで予測した結果をアンサンブル\n",
    "# Ensemble predicted results\n",
    "state = 0\n",
    "if len(fold) > 0:\n",
    "    df_result = pd.DataFrame(fold).transpose().mean(axis=1)\n",
    "    state = 1\n"
   ]
  },
  {
   "cell_type": "markdown",
   "id": "e0c4fd30",
   "metadata": {
    "papermill": {
     "duration": 0.047764,
     "end_time": "2023-11-06T23:56:27.442919",
     "exception": false,
     "start_time": "2023-11-06T23:56:27.395155",
     "status": "completed"
    },
    "tags": []
   },
   "source": [
    "# 8. 投稿用ファイルの作成\n",
    "## Make submission file"
   ]
  },
  {
   "cell_type": "code",
   "execution_count": null,
   "id": "3b14f81c",
   "metadata": {
    "execution": {
     "iopub.execute_input": "2023-11-06T23:56:27.542475Z",
     "iopub.status.busy": "2023-11-06T23:56:27.541873Z",
     "iopub.status.idle": "2023-11-06T23:56:27.551875Z",
     "shell.execute_reply": "2023-11-06T23:56:27.550830Z"
    },
    "papermill": {
     "duration": 0.062764,
     "end_time": "2023-11-06T23:56:27.553703",
     "exception": false,
     "start_time": "2023-11-06T23:56:27.490939",
     "status": "completed"
    },
    "tags": []
   },
   "outputs": [],
   "source": [
    "if state == 1:\n",
    "    sample_submission['smoking'] = df_result\n",
    "sample_submission"
   ]
  },
  {
   "cell_type": "code",
   "execution_count": null,
   "id": "fb2e8239",
   "metadata": {
    "execution": {
     "iopub.execute_input": "2023-11-06T23:56:27.651273Z",
     "iopub.status.busy": "2023-11-06T23:56:27.650695Z",
     "iopub.status.idle": "2023-11-06T23:56:27.850593Z",
     "shell.execute_reply": "2023-11-06T23:56:27.849860Z"
    },
    "papermill": {
     "duration": 0.250638,
     "end_time": "2023-11-06T23:56:27.852614",
     "exception": false,
     "start_time": "2023-11-06T23:56:27.601976",
     "status": "completed"
    },
    "tags": []
   },
   "outputs": [],
   "source": [
    "sample_submission.to_csv('lgbm_submission.csv', index=False)"
   ]
  },
  {
   "cell_type": "code",
   "execution_count": null,
   "id": "ead4250f",
   "metadata": {
    "execution": {
     "iopub.execute_input": "2023-11-06T23:56:27.948308Z",
     "iopub.status.busy": "2023-11-06T23:56:27.947768Z",
     "iopub.status.idle": "2023-11-06T23:56:27.953193Z",
     "shell.execute_reply": "2023-11-06T23:56:27.952253Z"
    },
    "papermill": {
     "duration": 0.055764,
     "end_time": "2023-11-06T23:56:27.955258",
     "exception": false,
     "start_time": "2023-11-06T23:56:27.899494",
     "status": "completed"
    },
    "tags": []
   },
   "outputs": [],
   "source": [
    "def changeHMS(s):\n",
    "    h = math.floor(s / 3600)\n",
    "    if h > 0:\n",
    "        s = s - h * 3600\n",
    "        indi_h = str(h) + 'h'\n",
    "    else:\n",
    "        indi_h = ''\n",
    "    m = math.floor(s / 60)\n",
    "    if m > 0:\n",
    "        indi_m = str(m) + 'm'\n",
    "    else:\n",
    "        indi_m = ''\n",
    "    s = math.floor(s % 60)\n",
    "    time = indi_h + indi_m + str(s) + 's'\n",
    "    return time"
   ]
  },
  {
   "cell_type": "code",
   "execution_count": null,
   "id": "e6ecc13d",
   "metadata": {
    "execution": {
     "iopub.execute_input": "2023-11-06T23:56:28.052797Z",
     "iopub.status.busy": "2023-11-06T23:56:28.051924Z",
     "iopub.status.idle": "2023-11-06T23:56:28.057968Z",
     "shell.execute_reply": "2023-11-06T23:56:28.056839Z"
    },
    "papermill": {
     "duration": 0.057537,
     "end_time": "2023-11-06T23:56:28.060063",
     "exception": false,
     "start_time": "2023-11-06T23:56:28.002526",
     "status": "completed"
    },
    "tags": []
   },
   "outputs": [],
   "source": [
    "end_time = time.time()\n",
    "lap = end_time - start_time\n",
    "indi_time = changeHMS(lap)\n",
    "indi_time"
   ]
  },
  {
   "cell_type": "code",
   "execution_count": null,
   "metadata": {},
   "outputs": [],
   "source": []
  }
 ],
 "metadata": {
  "kernelspec": {
   "display_name": "Python 3",
   "language": "python",
   "name": "python3"
  },
  "language_info": {
   "codemirror_mode": {
    "name": "ipython",
    "version": 3
   },
   "file_extension": ".py",
   "mimetype": "text/x-python",
   "name": "python",
   "nbconvert_exporter": "python",
   "pygments_lexer": "ipython3",
   "version": "3.9.6"
  },
  "papermill": {
   "default_parameters": {},
   "duration": 643.079019,
   "end_time": "2023-11-06T23:56:29.129906",
   "environment_variables": {},
   "exception": null,
   "input_path": "__notebook__.ipynb",
   "output_path": "__notebook__.ipynb",
   "parameters": {},
   "start_time": "2023-11-06T23:45:46.050887",
   "version": "2.4.0"
  }
 },
 "nbformat": 4,
 "nbformat_minor": 5
}
