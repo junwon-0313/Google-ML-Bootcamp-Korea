{
 "cells": [
  {
   "cell_type": "code",
   "execution_count": 1,
   "metadata": {},
   "outputs": [],
   "source": [
    "import pandas as pd\n",
    "\n",
    "blend1 = pd.read_csv('xgb_opt_submission.csv')\n",
    "blend2 = pd.read_csv('lgbm_submission.csv')"
   ]
  },
  {
   "cell_type": "code",
   "execution_count": 2,
   "metadata": {},
   "outputs": [],
   "source": [
    "# 가중 평균을 위한 가중치를 설정합니다.\n",
    "weight1 = 0.5  # 첫 번째 DataFrame의 가중치\n",
    "weight2 = 0.5  # 두 번째 DataFrame의 가중치\n",
    "\n",
    "# 두 DataFrame의 'smoking' 열을 가중 평균합니다.\n",
    "result_df = (blend1['smoking'] * weight1) + (blend2['smoking'] * weight2)\n",
    "\n",
    "# 결과 DataFrame에 새로운 'smoking' 열을 추가합니다.\n",
    "result_df = pd.concat([blend1['id'], result_df], axis=1)\n",
    "result_df.columns = ['id', 'smoking']\n",
    "\n",
    "# 결과를 CSV 파일로 저장합니다.\n",
    "result_df.to_csv('./xgb_opt_lgbm_submission.csv', index=False)"
   ]
  },
  {
   "cell_type": "code",
   "execution_count": null,
   "metadata": {},
   "outputs": [],
   "source": []
  }
 ],
 "metadata": {
  "kernelspec": {
   "display_name": "Python 3",
   "language": "python",
   "name": "python3"
  },
  "language_info": {
   "codemirror_mode": {
    "name": "ipython",
    "version": 3
   },
   "file_extension": ".py",
   "mimetype": "text/x-python",
   "name": "python",
   "nbconvert_exporter": "python",
   "pygments_lexer": "ipython3",
   "version": "3.9.6"
  }
 },
 "nbformat": 4,
 "nbformat_minor": 2
}
